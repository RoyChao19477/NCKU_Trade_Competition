{
 "cells": [
  {
   "cell_type": "markdown",
   "metadata": {},
   "source": [
    "> RoyChao"
   ]
  },
  {
   "cell_type": "markdown",
   "metadata": {},
   "source": [
    "## 1-0 Environments"
   ]
  },
  {
   "cell_type": "code",
   "execution_count": 1,
   "metadata": {},
   "outputs": [
    {
     "name": "stdout",
     "output_type": "stream",
     "text": [
      "Python 3.9.5\n",
      "pip 21.1.3 from /Users/blueshiner/anaconda3/envs/py39/lib/python3.9/site-packages/pip (python 3.9)\n",
      "The matplotlib version is 3.4.3\n",
      "The numpy version is 1.20.3.\n",
      "The pandas version is 1.3.3.\n",
      "The scikit-learn version is 1.0.2.\n",
      "The scipy version is 1.7.1.\n",
      "The seaborn version is 0.11.2.\n"
     ]
    }
   ],
   "source": [
    "# Python:\n",
    "!python3 --version\n",
    "\n",
    "# Pip:\n",
    "!pip --version\n",
    "\n",
    "# matplotlob, numpy, pandas, sklearn, scipy, seaborn\n",
    "import matplotlib\n",
    "print('The matplotlib version is {}'. format(matplotlib. __version__)) \n",
    "import numpy as np\n",
    "print('The numpy version is {}.'.format(np.__version__))\n",
    "import pandas as pd\n",
    "print('The pandas version is {}.'.format(pd.__version__))\n",
    "import sklearn\n",
    "print('The scikit-learn version is {}.'.format(sklearn.__version__))\n",
    "import scipy\n",
    "print('The scipy version is {}.'.format(scipy.__version__))\n",
    "import seaborn as sns\n",
    "print('The seaborn version is {}.'.format(sns.__version__))"
   ]
  },
  {
   "cell_type": "markdown",
   "metadata": {},
   "source": [
    "## 1-1 Environments Parameters"
   ]
  },
  {
   "cell_type": "code",
   "execution_count": 2,
   "metadata": {},
   "outputs": [],
   "source": [
    "sns.set( style=\"ticks\" )"
   ]
  },
  {
   "cell_type": "markdown",
   "metadata": {},
   "source": [
    "## 1-2 Read CSV & Drop"
   ]
  },
  {
   "cell_type": "code",
   "execution_count": 3,
   "metadata": {},
   "outputs": [
    {
     "name": "stdout",
     "output_type": "stream",
     "text": [
      "                     time  generation  consumption\n",
      "0     2018-01-01 00:00:00        0.00         0.94\n",
      "1     2018-01-01 01:00:00        0.00         1.44\n",
      "2     2018-01-01 02:00:00        0.00         0.74\n",
      "3     2018-01-01 03:00:00        0.00         0.49\n",
      "4     2018-01-01 04:00:00        0.00         0.46\n",
      "...                   ...         ...          ...\n",
      "5827  2018-08-31 19:00:00        0.11         4.05\n",
      "5828  2018-08-31 20:00:00        0.01         4.13\n",
      "5829  2018-08-31 21:00:00        0.00         3.90\n",
      "5830  2018-08-31 22:00:00        0.00         3.64\n",
      "5831  2018-08-31 23:00:00        0.00         3.55\n",
      "\n",
      "[291600 rows x 3 columns]\n"
     ]
    }
   ],
   "source": [
    "import glob\n",
    "import pandas as pd\n",
    "  \n",
    "# specifying the path to csv files\n",
    "path = \"training_data\"\n",
    "  \n",
    "# csv files in the path\n",
    "files = glob.glob(path + \"/*.csv\")\n",
    "  \n",
    "# defining an empty list to store \n",
    "# content\n",
    "data_frame = pd.DataFrame()\n",
    "content = []\n",
    "  \n",
    "# checking all the csv files in the \n",
    "# specified path\n",
    "for filename in files:\n",
    "    \n",
    "    # reading content of csv file\n",
    "    # content.append(filename)\n",
    "    df = pd.read_csv(filename, index_col=None)\n",
    "    content.append(df)\n",
    "  \n",
    "# converting content to data frame\n",
    "data_frame = pd.concat(content)\n",
    "print(data_frame)"
   ]
  },
  {
   "cell_type": "code",
   "execution_count": 4,
   "metadata": {},
   "outputs": [
    {
     "name": "stdout",
     "output_type": "stream",
     "text": [
      "                  time  generation  consumption\n",
      "0  2018-01-01 00:00:00         0.0         0.94\n",
      "1  2018-01-01 01:00:00         0.0         1.44\n",
      "2  2018-01-01 02:00:00         0.0         0.74\n",
      "3  2018-01-01 03:00:00         0.0         0.49\n",
      "4  2018-01-01 04:00:00         0.0         0.46\n"
     ]
    }
   ],
   "source": [
    "df_raw = data_frame\n",
    "print(df_raw.head())"
   ]
  },
  {
   "cell_type": "markdown",
   "metadata": {},
   "source": [
    "## 1-3 Make training dataframe"
   ]
  },
  {
   "cell_type": "code",
   "execution_count": 5,
   "metadata": {},
   "outputs": [
    {
     "name": "stdout",
     "output_type": "stream",
     "text": [
      "                  time  generation  consumption\n",
      "0  2018-01-01 00:00:00         0.0         0.94\n",
      "1  2018-01-01 01:00:00         0.0         1.44\n",
      "2  2018-01-01 02:00:00         0.0         0.74\n",
      "3  2018-01-01 03:00:00         0.0         0.49\n",
      "4  2018-01-01 04:00:00         0.0         0.46\n",
      "          generation   consumption\n",
      "count  291600.000000  291600.00000\n",
      "mean        0.780644       1.44444\n",
      "std         1.188958       1.27682\n",
      "min         0.000000      -0.23000\n",
      "25%         0.000000       0.50000\n",
      "50%         0.020000       0.96000\n",
      "75%         1.240000       1.98000\n",
      "max         5.320000      10.65000\n"
     ]
    }
   ],
   "source": [
    "df_dataset = df_raw.copy()\n",
    "\"\"\"\n",
    "df_dataset['PRED'] = -1.0\n",
    "\n",
    "for idx in range( len(df_dataset) - 1 ):\n",
    "    df_dataset['PRED'][idx] = df_dataset['A'][idx + 1]\n",
    "\n",
    "df_dataset.drop(df_dataset.tail(1).index, inplace=True)     # drop last one\n",
    "\"\"\"\n",
    "print( df_dataset.head() )\n",
    "print( df_dataset.describe() )\n"
   ]
  },
  {
   "cell_type": "code",
   "execution_count": 6,
   "metadata": {},
   "outputs": [],
   "source": [
    "df_dataset['time'] = pd.to_datetime(df_dataset['time'])\n",
    "df_dataset.set_index('time', inplace=True)"
   ]
  },
  {
   "cell_type": "code",
   "execution_count": 7,
   "metadata": {},
   "outputs": [
    {
     "name": "stdout",
     "output_type": "stream",
     "text": [
      "5832\n",
      "243\n"
     ]
    }
   ],
   "source": [
    "from scipy.stats import skew\n",
    "from scipy.stats import kurtosis\n",
    "\n",
    "print(len(df))\n",
    "print(len(df_dataset.resample('1440T').agg({'min', 'max', 'sum', skew, kurtosis})))\n",
    "\n",
    "df_feature = df_dataset.resample('1440T').agg({'min', 'max', 'sum', skew, kurtosis})"
   ]
  },
  {
   "cell_type": "code",
   "execution_count": 8,
   "metadata": {},
   "outputs": [],
   "source": [
    "df_target = df_dataset['consumption'] - df_dataset['generation']"
   ]
  },
  {
   "cell_type": "code",
   "execution_count": 9,
   "metadata": {},
   "outputs": [
    {
     "data": {
      "text/html": [
       "<div>\n",
       "<style scoped>\n",
       "    .dataframe tbody tr th:only-of-type {\n",
       "        vertical-align: middle;\n",
       "    }\n",
       "\n",
       "    .dataframe tbody tr th {\n",
       "        vertical-align: top;\n",
       "    }\n",
       "\n",
       "    .dataframe thead tr th {\n",
       "        text-align: left;\n",
       "    }\n",
       "\n",
       "    .dataframe thead tr:last-of-type th {\n",
       "        text-align: right;\n",
       "    }\n",
       "</style>\n",
       "<table border=\"1\" class=\"dataframe\">\n",
       "  <thead>\n",
       "    <tr>\n",
       "      <th></th>\n",
       "      <th colspan=\"5\" halign=\"left\">generation</th>\n",
       "      <th colspan=\"5\" halign=\"left\">consumption</th>\n",
       "    </tr>\n",
       "    <tr>\n",
       "      <th></th>\n",
       "      <th>sum</th>\n",
       "      <th>skew</th>\n",
       "      <th>max</th>\n",
       "      <th>min</th>\n",
       "      <th>kurtosis</th>\n",
       "      <th>sum</th>\n",
       "      <th>skew</th>\n",
       "      <th>max</th>\n",
       "      <th>min</th>\n",
       "      <th>kurtosis</th>\n",
       "    </tr>\n",
       "    <tr>\n",
       "      <th>time</th>\n",
       "      <th></th>\n",
       "      <th></th>\n",
       "      <th></th>\n",
       "      <th></th>\n",
       "      <th></th>\n",
       "      <th></th>\n",
       "      <th></th>\n",
       "      <th></th>\n",
       "      <th></th>\n",
       "      <th></th>\n",
       "    </tr>\n",
       "  </thead>\n",
       "  <tbody>\n",
       "    <tr>\n",
       "      <th>2018-01-01</th>\n",
       "      <td>444.82</td>\n",
       "      <td>1.349001</td>\n",
       "      <td>2.11</td>\n",
       "      <td>0.0</td>\n",
       "      <td>0.749392</td>\n",
       "      <td>1514.70</td>\n",
       "      <td>2.705904</td>\n",
       "      <td>6.73</td>\n",
       "      <td>-0.01</td>\n",
       "      <td>10.259819</td>\n",
       "    </tr>\n",
       "    <tr>\n",
       "      <th>2018-01-02</th>\n",
       "      <td>197.54</td>\n",
       "      <td>1.601827</td>\n",
       "      <td>1.01</td>\n",
       "      <td>0.0</td>\n",
       "      <td>1.198496</td>\n",
       "      <td>1542.28</td>\n",
       "      <td>2.645318</td>\n",
       "      <td>8.13</td>\n",
       "      <td>0.28</td>\n",
       "      <td>9.733357</td>\n",
       "    </tr>\n",
       "    <tr>\n",
       "      <th>2018-01-03</th>\n",
       "      <td>1007.97</td>\n",
       "      <td>1.311670</td>\n",
       "      <td>4.68</td>\n",
       "      <td>0.0</td>\n",
       "      <td>0.223973</td>\n",
       "      <td>1328.64</td>\n",
       "      <td>1.959473</td>\n",
       "      <td>4.57</td>\n",
       "      <td>0.20</td>\n",
       "      <td>3.860177</td>\n",
       "    </tr>\n",
       "    <tr>\n",
       "      <th>2018-01-04</th>\n",
       "      <td>760.87</td>\n",
       "      <td>1.563625</td>\n",
       "      <td>4.62</td>\n",
       "      <td>0.0</td>\n",
       "      <td>1.101412</td>\n",
       "      <td>1012.79</td>\n",
       "      <td>3.197081</td>\n",
       "      <td>4.79</td>\n",
       "      <td>0.18</td>\n",
       "      <td>14.810030</td>\n",
       "    </tr>\n",
       "    <tr>\n",
       "      <th>2018-01-05</th>\n",
       "      <td>926.79</td>\n",
       "      <td>1.527140</td>\n",
       "      <td>4.81</td>\n",
       "      <td>0.0</td>\n",
       "      <td>0.853975</td>\n",
       "      <td>961.32</td>\n",
       "      <td>3.084802</td>\n",
       "      <td>4.49</td>\n",
       "      <td>0.17</td>\n",
       "      <td>11.742087</td>\n",
       "    </tr>\n",
       "    <tr>\n",
       "      <th>...</th>\n",
       "      <td>...</td>\n",
       "      <td>...</td>\n",
       "      <td>...</td>\n",
       "      <td>...</td>\n",
       "      <td>...</td>\n",
       "      <td>...</td>\n",
       "      <td>...</td>\n",
       "      <td>...</td>\n",
       "      <td>...</td>\n",
       "      <td>...</td>\n",
       "    </tr>\n",
       "    <tr>\n",
       "      <th>2018-08-27</th>\n",
       "      <td>1139.07</td>\n",
       "      <td>1.086976</td>\n",
       "      <td>4.45</td>\n",
       "      <td>0.0</td>\n",
       "      <td>-0.234263</td>\n",
       "      <td>2830.64</td>\n",
       "      <td>1.240008</td>\n",
       "      <td>8.49</td>\n",
       "      <td>0.36</td>\n",
       "      <td>1.707028</td>\n",
       "    </tr>\n",
       "    <tr>\n",
       "      <th>2018-08-28</th>\n",
       "      <td>1215.10</td>\n",
       "      <td>1.085031</td>\n",
       "      <td>4.61</td>\n",
       "      <td>0.0</td>\n",
       "      <td>-0.253817</td>\n",
       "      <td>2811.07</td>\n",
       "      <td>0.721008</td>\n",
       "      <td>6.96</td>\n",
       "      <td>0.34</td>\n",
       "      <td>-0.308219</td>\n",
       "    </tr>\n",
       "    <tr>\n",
       "      <th>2018-08-29</th>\n",
       "      <td>1140.41</td>\n",
       "      <td>1.002398</td>\n",
       "      <td>4.27</td>\n",
       "      <td>0.0</td>\n",
       "      <td>-0.471169</td>\n",
       "      <td>2932.75</td>\n",
       "      <td>0.951724</td>\n",
       "      <td>8.45</td>\n",
       "      <td>0.42</td>\n",
       "      <td>1.469815</td>\n",
       "    </tr>\n",
       "    <tr>\n",
       "      <th>2018-08-30</th>\n",
       "      <td>1064.27</td>\n",
       "      <td>1.220957</td>\n",
       "      <td>4.27</td>\n",
       "      <td>0.0</td>\n",
       "      <td>0.185189</td>\n",
       "      <td>2662.85</td>\n",
       "      <td>0.706405</td>\n",
       "      <td>6.30</td>\n",
       "      <td>0.36</td>\n",
       "      <td>-0.404053</td>\n",
       "    </tr>\n",
       "    <tr>\n",
       "      <th>2018-08-31</th>\n",
       "      <td>1182.51</td>\n",
       "      <td>0.974502</td>\n",
       "      <td>4.36</td>\n",
       "      <td>0.0</td>\n",
       "      <td>-0.553478</td>\n",
       "      <td>2817.48</td>\n",
       "      <td>0.745499</td>\n",
       "      <td>6.87</td>\n",
       "      <td>0.36</td>\n",
       "      <td>-0.090606</td>\n",
       "    </tr>\n",
       "  </tbody>\n",
       "</table>\n",
       "<p>243 rows × 10 columns</p>\n",
       "</div>"
      ],
      "text/plain": [
       "           generation                                consumption            \\\n",
       "                  sum      skew   max  min  kurtosis         sum      skew   \n",
       "time                                                                         \n",
       "2018-01-01     444.82  1.349001  2.11  0.0  0.749392     1514.70  2.705904   \n",
       "2018-01-02     197.54  1.601827  1.01  0.0  1.198496     1542.28  2.645318   \n",
       "2018-01-03    1007.97  1.311670  4.68  0.0  0.223973     1328.64  1.959473   \n",
       "2018-01-04     760.87  1.563625  4.62  0.0  1.101412     1012.79  3.197081   \n",
       "2018-01-05     926.79  1.527140  4.81  0.0  0.853975      961.32  3.084802   \n",
       "...               ...       ...   ...  ...       ...         ...       ...   \n",
       "2018-08-27    1139.07  1.086976  4.45  0.0 -0.234263     2830.64  1.240008   \n",
       "2018-08-28    1215.10  1.085031  4.61  0.0 -0.253817     2811.07  0.721008   \n",
       "2018-08-29    1140.41  1.002398  4.27  0.0 -0.471169     2932.75  0.951724   \n",
       "2018-08-30    1064.27  1.220957  4.27  0.0  0.185189     2662.85  0.706405   \n",
       "2018-08-31    1182.51  0.974502  4.36  0.0 -0.553478     2817.48  0.745499   \n",
       "\n",
       "                                   \n",
       "             max   min   kurtosis  \n",
       "time                               \n",
       "2018-01-01  6.73 -0.01  10.259819  \n",
       "2018-01-02  8.13  0.28   9.733357  \n",
       "2018-01-03  4.57  0.20   3.860177  \n",
       "2018-01-04  4.79  0.18  14.810030  \n",
       "2018-01-05  4.49  0.17  11.742087  \n",
       "...          ...   ...        ...  \n",
       "2018-08-27  8.49  0.36   1.707028  \n",
       "2018-08-28  6.96  0.34  -0.308219  \n",
       "2018-08-29  8.45  0.42   1.469815  \n",
       "2018-08-30  6.30  0.36  -0.404053  \n",
       "2018-08-31  6.87  0.36  -0.090606  \n",
       "\n",
       "[243 rows x 10 columns]"
      ]
     },
     "execution_count": 9,
     "metadata": {},
     "output_type": "execute_result"
    }
   ],
   "source": [
    "df_feature"
   ]
  },
  {
   "cell_type": "code",
   "execution_count": 10,
   "metadata": {},
   "outputs": [
    {
     "name": "stderr",
     "output_type": "stream",
     "text": [
      "/Users/blueshiner/anaconda3/envs/py39/lib/python3.9/site-packages/pandas/core/generic.py:4150: PerformanceWarning: dropping on a non-lexsorted multi-index without a level parameter may impact performance.\n",
      "  obj = obj._drop_axis(labels, axis, level=level, errors=errors)\n"
     ]
    },
    {
     "name": "stdout",
     "output_type": "stream",
     "text": [
      "(239, 50)\n",
      "(239, 24)\n"
     ]
    }
   ],
   "source": [
    "dataset_x = []\n",
    "dataset_y = []\n",
    "\n",
    "for i in range( len(df_feature) - 4):\n",
    "  #print(df_feature.iloc[ (i) : (i+5) ].values.flatten().shape)\n",
    "  #print(df_target.iloc[ (i+5)*24 : (i+6)*24].values.shape )\n",
    "  dataset_x.append(df_feature.reset_index().drop('time', axis=1).iloc[ (i) : (i+5) ].values.flatten())\n",
    "  dataset_y.append(df_target.iloc[ (i+5)*24 : (i+6)*24].values)\n",
    "\n",
    "print(np.asarray(dataset_x).shape)\n",
    "print(np.asarray(dataset_y).shape)\n",
    "\n",
    "dataset_x = np.asarray(dataset_x)\n",
    "dataset_y = np.asarray(dataset_y)"
   ]
  },
  {
   "cell_type": "code",
   "execution_count": null,
   "metadata": {},
   "outputs": [],
   "source": []
  },
  {
   "cell_type": "code",
   "execution_count": 11,
   "metadata": {},
   "outputs": [],
   "source": [
    "import pandas as pd\n",
    "import numpy as np\n",
    "import matplotlib.pyplot as plt\n",
    "from matplotlib.pyplot import figure\n",
    "import seaborn as sns\n",
    "sns.set( style=\"ticks\" )"
   ]
  },
  {
   "cell_type": "code",
   "execution_count": 12,
   "metadata": {},
   "outputs": [],
   "source": [
    "from scipy.stats import skew\n",
    "from scipy.stats import kurtosis"
   ]
  },
  {
   "cell_type": "code",
   "execution_count": 13,
   "metadata": {},
   "outputs": [],
   "source": [
    "# We will try a lot of models later\n",
    "\n",
    "from sklearn.model_selection import GridSearchCV                     \n",
    "from sklearn.metrics import accuracy_score, log_loss\n",
    "from sklearn.neighbors import KNeighborsRegressor\n",
    "from sklearn.svm import SVR, LinearSVC, NuSVR\n",
    "from sklearn.tree import DecisionTreeRegressor\n",
    "from sklearn.ensemble import RandomForestRegressor, AdaBoostRegressor, GradientBoostingRegressor\n",
    "from sklearn.naive_bayes import GaussianNB\n",
    "from sklearn.discriminant_analysis import LinearDiscriminantAnalysis\n",
    "from sklearn.discriminant_analysis import QuadraticDiscriminantAnalysis\n",
    "classifiers = [\n",
    "    KNeighborsRegressor(),\n",
    "    SVR(),\n",
    "    NuSVR(),\n",
    "    DecisionTreeRegressor(),\n",
    "    RandomForestRegressor(),\n",
    "    AdaBoostRegressor(),\n",
    "    GradientBoostingRegressor()\n",
    "]"
   ]
  },
  {
   "cell_type": "code",
   "execution_count": 14,
   "metadata": {},
   "outputs": [
    {
     "name": "stdout",
     "output_type": "stream",
     "text": [
      "(211, 50) (211, 24) (28, 50) (28, 24)\n"
     ]
    }
   ],
   "source": [
    "train_x = dataset_x[0:211]\n",
    "train_y = dataset_y[0:211]\n",
    "\n",
    "test_x = dataset_x[211:]\n",
    "test_y = dataset_y[211:]\n",
    "\n",
    "print(train_x.shape, train_y.shape, test_x.shape, test_y.shape)"
   ]
  },
  {
   "cell_type": "code",
   "execution_count": 15,
   "metadata": {},
   "outputs": [
    {
     "data": {
      "text/plain": [
       "array([[4.44820000e+02, 1.34900062e+00, 2.11000000e+00, ...,\n",
       "        4.49000000e+00, 1.70000000e-01, 1.17420873e+01],\n",
       "       [1.97540000e+02, 1.60182655e+00, 1.01000000e+00, ...,\n",
       "        3.88000000e+00, 1.90000000e-01, 1.81221273e+00],\n",
       "       [1.00797000e+03, 1.31166957e+00, 4.68000000e+00, ...,\n",
       "        4.90000000e+00, 1.80000000e-01, 8.84201110e+00],\n",
       "       ...,\n",
       "       [1.20836000e+03, 1.02459789e+00, 4.26000000e+00, ...,\n",
       "        7.16000000e+00, 2.40000000e-01, 8.94372826e-01],\n",
       "       [1.21655000e+03, 9.98359226e-01, 4.21000000e+00, ...,\n",
       "        8.19000000e+00, 2.30000000e-01, 9.15275247e-01],\n",
       "       [1.01422000e+03, 9.79643008e-01, 3.98000000e+00, ...,\n",
       "        6.86000000e+00, 3.80000000e-01, 5.43621471e-02]])"
      ]
     },
     "execution_count": 15,
     "metadata": {},
     "output_type": "execute_result"
    }
   ],
   "source": [
    "train_x"
   ]
  },
  {
   "cell_type": "code",
   "execution_count": 16,
   "metadata": {},
   "outputs": [
    {
     "data": {
      "text/plain": [
       "array([[0.57, 0.44, 0.56, ..., 1.28, 0.89, 0.68],\n",
       "       [0.41, 0.51, 0.41, ..., 0.7 , 0.6 , 0.51],\n",
       "       [0.46, 0.54, 0.44, ..., 0.67, 0.53, 0.9 ],\n",
       "       ...,\n",
       "       [1.27, 0.31, 1.62, ..., 2.13, 2.44, 1.72],\n",
       "       [1.28, 1.16, 0.5 , ..., 2.21, 1.71, 1.16],\n",
       "       [1.85, 1.5 , 1.22, ..., 1.63, 1.71, 0.46]])"
      ]
     },
     "execution_count": 16,
     "metadata": {},
     "output_type": "execute_result"
    }
   ],
   "source": [
    "train_y"
   ]
  },
  {
   "cell_type": "code",
   "execution_count": 83,
   "metadata": {},
   "outputs": [
    {
     "name": "stdout",
     "output_type": "stream",
     "text": [
      "MultiOutputRegressor\n",
      "average train MSE: 9.493381714234966e-05\n",
      "    min train MSE: 9.227034048879071e-05\n",
      "    max train MSE: 9.707449492716879e-05\n",
      "average valid MSE: 0.010963239544965702\n",
      "    min valid MSE: 0.009752108927855205\n",
      "    max valid MSE: 0.01168696747612816\n",
      "==============================\n"
     ]
    }
   ],
   "source": [
    "# 模型訓練\n",
    "\n",
    "from sklearn.model_selection import KFold             # 匯入 K 次交叉驗證工具\n",
    "from sklearn.tree import DecisionTreeClassifier       # 匯入決策樹模型\n",
    "from sklearn.metrics import accuracy_score            # 匯入準確度計算工具\n",
    "from sklearn.metrics import mean_squared_error\n",
    "from sklearn.multioutput import MultiOutputRegressor\n",
    "\n",
    "kf = KFold(n_splits=5,                                # 設定 K 值\n",
    "           random_state=1012,\n",
    "           shuffle=True)\n",
    "kf.get_n_splits(train_x)                              # 給予資料範圍\n",
    "\n",
    "\n",
    "train_acc_list = []                                   # 儲存每次訓練模型的準確度\n",
    "valid_acc_list = []                                   # 儲存每次驗證模型的準確度\n",
    "best = []\n",
    "avg = []\n",
    "\n",
    "# train_index = [0, 1, 2, 3, 4, 5, 6, 7, 8, 9, 10, 11, 12, 13, 14, 15, 16, 17, 18, 19, 20]\n",
    "# valid_index = [21, 22, 23, 24, 25, 26, 27, 28]\n",
    "clf = MultiOutputRegressor(GradientBoostingRegressor(learning_rate=0.1, max_depth=3, n_estimators=100, subsample=1))\n",
    "\n",
    "\n",
    "for train_index, valid_index in kf.split(train_x):    # 每個迴圈都會產生不同部份的資料\n",
    "  train_x_split = train_x[train_index]         # 產生訓練資料\n",
    "  train_y_split = train_y[train_index]         # 產生訓練資料標籤\n",
    "  valid_x_split = train_x[valid_index]         # 產生驗證資料\n",
    "  valid_y_split = train_y[valid_index]         # 產生驗證資料標籤\n",
    "\n",
    "  clf.fit(train_x_split, train_y_split)             # 訓練決策樹模型\n",
    "  \n",
    "  train_pred_y = clf.predict(train_x_split)         # 確認模型是否訓練成功\n",
    "  train_acc = mean_squared_error(train_y_split, train_pred_y) / len(train_y_split)\n",
    "\n",
    "  valid_pred_y = clf.predict(valid_x_split)         # 驗證模型是否訓練成功\n",
    "  valid_acc = mean_squared_error(valid_y_split, valid_pred_y) / len(valid_y_split)\n",
    "  \n",
    "  train_acc_list.append(train_acc)\n",
    "  valid_acc_list.append(valid_acc)\n",
    "\n",
    "print( clf.__class__.__name__ )        # print classifier's name\n",
    "  # print(\"train MSE: \", train_acc)\n",
    "  # print(\"test MSE: \", valid_acc)\n",
    "  \n",
    "print((\n",
    "  'average train MSE: {}\\n' +\n",
    "  '    min train MSE: {}\\n' +\n",
    "  '    max train MSE: {}\\n' +\n",
    "  'average valid MSE: {}\\n' +\n",
    "  '    min valid MSE: {}\\n' +\n",
    "  '    max valid MSE: {}').format(\n",
    "  np.mean(train_acc_list),                          # 輸出平均訓練準確度\n",
    "  np.min(train_acc_list),                           # 輸出最低訓練準確度\n",
    "  np.max(train_acc_list),                           # 輸出最高訓練準確度\n",
    "  np.mean(valid_acc_list),                          # 輸出平均驗證準確度\n",
    "  np.min(valid_acc_list),                           # 輸出最低驗證準確度\n",
    "  np.max(valid_acc_list)                            # 輸出最高驗證準確度\n",
    "))\n",
    "\n",
    "best.append(np.min(valid_acc_list))\n",
    "avg.append(np.mean(valid_acc_list))\n",
    "\n",
    "print(\"=\"*30)"
   ]
  },
  {
   "cell_type": "code",
   "execution_count": 101,
   "metadata": {},
   "outputs": [
    {
     "ename": "KeyboardInterrupt",
     "evalue": "",
     "output_type": "error",
     "traceback": [
      "\u001b[0;31m---------------------------------------------------------------------------\u001b[0m",
      "\u001b[0;31mKeyboardInterrupt\u001b[0m                         Traceback (most recent call last)",
      "\u001b[1;32m/Users/blueshiner/git/3_Collections/19_DSAI/HW3/DSAI-HW3-2021/1_Preprocessing.ipynb Cell 23'\u001b[0m in \u001b[0;36m<module>\u001b[0;34m\u001b[0m\n\u001b[1;32m     <a href='vscode-notebook-cell:/Users/blueshiner/git/3_Collections/19_DSAI/HW3/DSAI-HW3-2021/1_Preprocessing.ipynb#ch0000023?line=10'>11</a>\u001b[0m grid \u001b[39m=\u001b[39m GridSearchCV(MultiOutputRegressor(cc), param_grid\u001b[39m=\u001b[39mparam_grid)\u001b[39m#, cv=cv, verbose=5, n_jobs=-1)\u001b[39;00m\n\u001b[1;32m     <a href='vscode-notebook-cell:/Users/blueshiner/git/3_Collections/19_DSAI/HW3/DSAI-HW3-2021/1_Preprocessing.ipynb#ch0000023?line=11'>12</a>\u001b[0m \u001b[39m# Train model\u001b[39;00m\n\u001b[0;32m---> <a href='vscode-notebook-cell:/Users/blueshiner/git/3_Collections/19_DSAI/HW3/DSAI-HW3-2021/1_Preprocessing.ipynb#ch0000023?line=12'>13</a>\u001b[0m grid\u001b[39m.\u001b[39;49mfit(train_x, train_y)\n\u001b[1;32m     <a href='vscode-notebook-cell:/Users/blueshiner/git/3_Collections/19_DSAI/HW3/DSAI-HW3-2021/1_Preprocessing.ipynb#ch0000023?line=16'>17</a>\u001b[0m grid\u001b[39m.\u001b[39mbest_params_\n",
      "File \u001b[0;32m~/anaconda3/envs/py39/lib/python3.9/site-packages/sklearn/utils/validation.py:63\u001b[0m, in \u001b[0;36m_deprecate_positional_args.<locals>._inner_deprecate_positional_args.<locals>.inner_f\u001b[0;34m(*args, **kwargs)\u001b[0m\n\u001b[1;32m     <a href='file:///Users/blueshiner/anaconda3/envs/py39/lib/python3.9/site-packages/sklearn/utils/validation.py?line=60'>61</a>\u001b[0m extra_args \u001b[39m=\u001b[39m \u001b[39mlen\u001b[39m(args) \u001b[39m-\u001b[39m \u001b[39mlen\u001b[39m(all_args)\n\u001b[1;32m     <a href='file:///Users/blueshiner/anaconda3/envs/py39/lib/python3.9/site-packages/sklearn/utils/validation.py?line=61'>62</a>\u001b[0m \u001b[39mif\u001b[39;00m extra_args \u001b[39m<\u001b[39m\u001b[39m=\u001b[39m \u001b[39m0\u001b[39m:\n\u001b[0;32m---> <a href='file:///Users/blueshiner/anaconda3/envs/py39/lib/python3.9/site-packages/sklearn/utils/validation.py?line=62'>63</a>\u001b[0m     \u001b[39mreturn\u001b[39;00m f(\u001b[39m*\u001b[39;49margs, \u001b[39m*\u001b[39;49m\u001b[39m*\u001b[39;49mkwargs)\n\u001b[1;32m     <a href='file:///Users/blueshiner/anaconda3/envs/py39/lib/python3.9/site-packages/sklearn/utils/validation.py?line=64'>65</a>\u001b[0m \u001b[39m# extra_args > 0\u001b[39;00m\n\u001b[1;32m     <a href='file:///Users/blueshiner/anaconda3/envs/py39/lib/python3.9/site-packages/sklearn/utils/validation.py?line=65'>66</a>\u001b[0m args_msg \u001b[39m=\u001b[39m [\u001b[39m'\u001b[39m\u001b[39m{}\u001b[39;00m\u001b[39m=\u001b[39m\u001b[39m{}\u001b[39;00m\u001b[39m'\u001b[39m\u001b[39m.\u001b[39mformat(name, arg)\n\u001b[1;32m     <a href='file:///Users/blueshiner/anaconda3/envs/py39/lib/python3.9/site-packages/sklearn/utils/validation.py?line=66'>67</a>\u001b[0m             \u001b[39mfor\u001b[39;00m name, arg \u001b[39min\u001b[39;00m \u001b[39mzip\u001b[39m(kwonly_args[:extra_args],\n\u001b[1;32m     <a href='file:///Users/blueshiner/anaconda3/envs/py39/lib/python3.9/site-packages/sklearn/utils/validation.py?line=67'>68</a>\u001b[0m                                  args[\u001b[39m-\u001b[39mextra_args:])]\n",
      "File \u001b[0;32m~/anaconda3/envs/py39/lib/python3.9/site-packages/sklearn/model_selection/_search.py:841\u001b[0m, in \u001b[0;36mBaseSearchCV.fit\u001b[0;34m(self, X, y, groups, **fit_params)\u001b[0m\n\u001b[1;32m    <a href='file:///Users/blueshiner/anaconda3/envs/py39/lib/python3.9/site-packages/sklearn/model_selection/_search.py?line=834'>835</a>\u001b[0m     results \u001b[39m=\u001b[39m \u001b[39mself\u001b[39m\u001b[39m.\u001b[39m_format_results(\n\u001b[1;32m    <a href='file:///Users/blueshiner/anaconda3/envs/py39/lib/python3.9/site-packages/sklearn/model_selection/_search.py?line=835'>836</a>\u001b[0m         all_candidate_params, n_splits, all_out,\n\u001b[1;32m    <a href='file:///Users/blueshiner/anaconda3/envs/py39/lib/python3.9/site-packages/sklearn/model_selection/_search.py?line=836'>837</a>\u001b[0m         all_more_results)\n\u001b[1;32m    <a href='file:///Users/blueshiner/anaconda3/envs/py39/lib/python3.9/site-packages/sklearn/model_selection/_search.py?line=838'>839</a>\u001b[0m     \u001b[39mreturn\u001b[39;00m results\n\u001b[0;32m--> <a href='file:///Users/blueshiner/anaconda3/envs/py39/lib/python3.9/site-packages/sklearn/model_selection/_search.py?line=840'>841</a>\u001b[0m \u001b[39mself\u001b[39;49m\u001b[39m.\u001b[39;49m_run_search(evaluate_candidates)\n\u001b[1;32m    <a href='file:///Users/blueshiner/anaconda3/envs/py39/lib/python3.9/site-packages/sklearn/model_selection/_search.py?line=842'>843</a>\u001b[0m \u001b[39m# multimetric is determined here because in the case of a callable\u001b[39;00m\n\u001b[1;32m    <a href='file:///Users/blueshiner/anaconda3/envs/py39/lib/python3.9/site-packages/sklearn/model_selection/_search.py?line=843'>844</a>\u001b[0m \u001b[39m# self.scoring the return type is only known after calling\u001b[39;00m\n\u001b[1;32m    <a href='file:///Users/blueshiner/anaconda3/envs/py39/lib/python3.9/site-packages/sklearn/model_selection/_search.py?line=844'>845</a>\u001b[0m first_test_score \u001b[39m=\u001b[39m all_out[\u001b[39m0\u001b[39m][\u001b[39m'\u001b[39m\u001b[39mtest_scores\u001b[39m\u001b[39m'\u001b[39m]\n",
      "File \u001b[0;32m~/anaconda3/envs/py39/lib/python3.9/site-packages/sklearn/model_selection/_search.py:1296\u001b[0m, in \u001b[0;36mGridSearchCV._run_search\u001b[0;34m(self, evaluate_candidates)\u001b[0m\n\u001b[1;32m   <a href='file:///Users/blueshiner/anaconda3/envs/py39/lib/python3.9/site-packages/sklearn/model_selection/_search.py?line=1293'>1294</a>\u001b[0m \u001b[39mdef\u001b[39;00m \u001b[39m_run_search\u001b[39m(\u001b[39mself\u001b[39m, evaluate_candidates):\n\u001b[1;32m   <a href='file:///Users/blueshiner/anaconda3/envs/py39/lib/python3.9/site-packages/sklearn/model_selection/_search.py?line=1294'>1295</a>\u001b[0m     \u001b[39m\"\"\"Search all candidates in param_grid\"\"\"\u001b[39;00m\n\u001b[0;32m-> <a href='file:///Users/blueshiner/anaconda3/envs/py39/lib/python3.9/site-packages/sklearn/model_selection/_search.py?line=1295'>1296</a>\u001b[0m     evaluate_candidates(ParameterGrid(\u001b[39mself\u001b[39;49m\u001b[39m.\u001b[39;49mparam_grid))\n",
      "File \u001b[0;32m~/anaconda3/envs/py39/lib/python3.9/site-packages/sklearn/model_selection/_search.py:795\u001b[0m, in \u001b[0;36mBaseSearchCV.fit.<locals>.evaluate_candidates\u001b[0;34m(candidate_params, cv, more_results)\u001b[0m\n\u001b[1;32m    <a href='file:///Users/blueshiner/anaconda3/envs/py39/lib/python3.9/site-packages/sklearn/model_selection/_search.py?line=789'>790</a>\u001b[0m \u001b[39mif\u001b[39;00m \u001b[39mself\u001b[39m\u001b[39m.\u001b[39mverbose \u001b[39m>\u001b[39m \u001b[39m0\u001b[39m:\n\u001b[1;32m    <a href='file:///Users/blueshiner/anaconda3/envs/py39/lib/python3.9/site-packages/sklearn/model_selection/_search.py?line=790'>791</a>\u001b[0m     \u001b[39mprint\u001b[39m(\u001b[39m\"\u001b[39m\u001b[39mFitting \u001b[39m\u001b[39m{0}\u001b[39;00m\u001b[39m folds for each of \u001b[39m\u001b[39m{1}\u001b[39;00m\u001b[39m candidates,\u001b[39m\u001b[39m\"\u001b[39m\n\u001b[1;32m    <a href='file:///Users/blueshiner/anaconda3/envs/py39/lib/python3.9/site-packages/sklearn/model_selection/_search.py?line=791'>792</a>\u001b[0m           \u001b[39m\"\u001b[39m\u001b[39m totalling \u001b[39m\u001b[39m{2}\u001b[39;00m\u001b[39m fits\u001b[39m\u001b[39m\"\u001b[39m\u001b[39m.\u001b[39mformat(\n\u001b[1;32m    <a href='file:///Users/blueshiner/anaconda3/envs/py39/lib/python3.9/site-packages/sklearn/model_selection/_search.py?line=792'>793</a>\u001b[0m               n_splits, n_candidates, n_candidates \u001b[39m*\u001b[39m n_splits))\n\u001b[0;32m--> <a href='file:///Users/blueshiner/anaconda3/envs/py39/lib/python3.9/site-packages/sklearn/model_selection/_search.py?line=794'>795</a>\u001b[0m out \u001b[39m=\u001b[39m parallel(delayed(_fit_and_score)(clone(base_estimator),\n\u001b[1;32m    <a href='file:///Users/blueshiner/anaconda3/envs/py39/lib/python3.9/site-packages/sklearn/model_selection/_search.py?line=795'>796</a>\u001b[0m                                        X, y,\n\u001b[1;32m    <a href='file:///Users/blueshiner/anaconda3/envs/py39/lib/python3.9/site-packages/sklearn/model_selection/_search.py?line=796'>797</a>\u001b[0m                                        train\u001b[39m=\u001b[39;49mtrain, test\u001b[39m=\u001b[39;49mtest,\n\u001b[1;32m    <a href='file:///Users/blueshiner/anaconda3/envs/py39/lib/python3.9/site-packages/sklearn/model_selection/_search.py?line=797'>798</a>\u001b[0m                                        parameters\u001b[39m=\u001b[39;49mparameters,\n\u001b[1;32m    <a href='file:///Users/blueshiner/anaconda3/envs/py39/lib/python3.9/site-packages/sklearn/model_selection/_search.py?line=798'>799</a>\u001b[0m                                        split_progress\u001b[39m=\u001b[39;49m(\n\u001b[1;32m    <a href='file:///Users/blueshiner/anaconda3/envs/py39/lib/python3.9/site-packages/sklearn/model_selection/_search.py?line=799'>800</a>\u001b[0m                                            split_idx,\n\u001b[1;32m    <a href='file:///Users/blueshiner/anaconda3/envs/py39/lib/python3.9/site-packages/sklearn/model_selection/_search.py?line=800'>801</a>\u001b[0m                                            n_splits),\n\u001b[1;32m    <a href='file:///Users/blueshiner/anaconda3/envs/py39/lib/python3.9/site-packages/sklearn/model_selection/_search.py?line=801'>802</a>\u001b[0m                                        candidate_progress\u001b[39m=\u001b[39;49m(\n\u001b[1;32m    <a href='file:///Users/blueshiner/anaconda3/envs/py39/lib/python3.9/site-packages/sklearn/model_selection/_search.py?line=802'>803</a>\u001b[0m                                            cand_idx,\n\u001b[1;32m    <a href='file:///Users/blueshiner/anaconda3/envs/py39/lib/python3.9/site-packages/sklearn/model_selection/_search.py?line=803'>804</a>\u001b[0m                                            n_candidates),\n\u001b[1;32m    <a href='file:///Users/blueshiner/anaconda3/envs/py39/lib/python3.9/site-packages/sklearn/model_selection/_search.py?line=804'>805</a>\u001b[0m                                        \u001b[39m*\u001b[39;49m\u001b[39m*\u001b[39;49mfit_and_score_kwargs)\n\u001b[1;32m    <a href='file:///Users/blueshiner/anaconda3/envs/py39/lib/python3.9/site-packages/sklearn/model_selection/_search.py?line=805'>806</a>\u001b[0m                \u001b[39mfor\u001b[39;49;00m (cand_idx, parameters),\n\u001b[1;32m    <a href='file:///Users/blueshiner/anaconda3/envs/py39/lib/python3.9/site-packages/sklearn/model_selection/_search.py?line=806'>807</a>\u001b[0m                    (split_idx, (train, test)) \u001b[39min\u001b[39;49;00m product(\n\u001b[1;32m    <a href='file:///Users/blueshiner/anaconda3/envs/py39/lib/python3.9/site-packages/sklearn/model_selection/_search.py?line=807'>808</a>\u001b[0m                    \u001b[39menumerate\u001b[39;49m(candidate_params),\n\u001b[1;32m    <a href='file:///Users/blueshiner/anaconda3/envs/py39/lib/python3.9/site-packages/sklearn/model_selection/_search.py?line=808'>809</a>\u001b[0m                    \u001b[39menumerate\u001b[39;49m(cv\u001b[39m.\u001b[39;49msplit(X, y, groups))))\n\u001b[1;32m    <a href='file:///Users/blueshiner/anaconda3/envs/py39/lib/python3.9/site-packages/sklearn/model_selection/_search.py?line=810'>811</a>\u001b[0m \u001b[39mif\u001b[39;00m \u001b[39mlen\u001b[39m(out) \u001b[39m<\u001b[39m \u001b[39m1\u001b[39m:\n\u001b[1;32m    <a href='file:///Users/blueshiner/anaconda3/envs/py39/lib/python3.9/site-packages/sklearn/model_selection/_search.py?line=811'>812</a>\u001b[0m     \u001b[39mraise\u001b[39;00m \u001b[39mValueError\u001b[39;00m(\u001b[39m'\u001b[39m\u001b[39mNo fits were performed. \u001b[39m\u001b[39m'\u001b[39m\n\u001b[1;32m    <a href='file:///Users/blueshiner/anaconda3/envs/py39/lib/python3.9/site-packages/sklearn/model_selection/_search.py?line=812'>813</a>\u001b[0m                      \u001b[39m'\u001b[39m\u001b[39mWas the CV iterator empty? \u001b[39m\u001b[39m'\u001b[39m\n\u001b[1;32m    <a href='file:///Users/blueshiner/anaconda3/envs/py39/lib/python3.9/site-packages/sklearn/model_selection/_search.py?line=813'>814</a>\u001b[0m                      \u001b[39m'\u001b[39m\u001b[39mWere there no candidates?\u001b[39m\u001b[39m'\u001b[39m)\n",
      "File \u001b[0;32m~/anaconda3/envs/py39/lib/python3.9/site-packages/joblib/parallel.py:1044\u001b[0m, in \u001b[0;36mParallel.__call__\u001b[0;34m(self, iterable)\u001b[0m\n\u001b[1;32m   <a href='file:///Users/blueshiner/anaconda3/envs/py39/lib/python3.9/site-packages/joblib/parallel.py?line=1040'>1041</a>\u001b[0m \u001b[39mif\u001b[39;00m \u001b[39mself\u001b[39m\u001b[39m.\u001b[39mdispatch_one_batch(iterator):\n\u001b[1;32m   <a href='file:///Users/blueshiner/anaconda3/envs/py39/lib/python3.9/site-packages/joblib/parallel.py?line=1041'>1042</a>\u001b[0m     \u001b[39mself\u001b[39m\u001b[39m.\u001b[39m_iterating \u001b[39m=\u001b[39m \u001b[39mself\u001b[39m\u001b[39m.\u001b[39m_original_iterator \u001b[39mis\u001b[39;00m \u001b[39mnot\u001b[39;00m \u001b[39mNone\u001b[39;00m\n\u001b[0;32m-> <a href='file:///Users/blueshiner/anaconda3/envs/py39/lib/python3.9/site-packages/joblib/parallel.py?line=1043'>1044</a>\u001b[0m \u001b[39mwhile\u001b[39;00m \u001b[39mself\u001b[39;49m\u001b[39m.\u001b[39;49mdispatch_one_batch(iterator):\n\u001b[1;32m   <a href='file:///Users/blueshiner/anaconda3/envs/py39/lib/python3.9/site-packages/joblib/parallel.py?line=1044'>1045</a>\u001b[0m     \u001b[39mpass\u001b[39;00m\n\u001b[1;32m   <a href='file:///Users/blueshiner/anaconda3/envs/py39/lib/python3.9/site-packages/joblib/parallel.py?line=1046'>1047</a>\u001b[0m \u001b[39mif\u001b[39;00m pre_dispatch \u001b[39m==\u001b[39m \u001b[39m\"\u001b[39m\u001b[39mall\u001b[39m\u001b[39m\"\u001b[39m \u001b[39mor\u001b[39;00m n_jobs \u001b[39m==\u001b[39m \u001b[39m1\u001b[39m:\n\u001b[1;32m   <a href='file:///Users/blueshiner/anaconda3/envs/py39/lib/python3.9/site-packages/joblib/parallel.py?line=1047'>1048</a>\u001b[0m     \u001b[39m# The iterable was consumed all at once by the above for loop.\u001b[39;00m\n\u001b[1;32m   <a href='file:///Users/blueshiner/anaconda3/envs/py39/lib/python3.9/site-packages/joblib/parallel.py?line=1048'>1049</a>\u001b[0m     \u001b[39m# No need to wait for async callbacks to trigger to\u001b[39;00m\n\u001b[1;32m   <a href='file:///Users/blueshiner/anaconda3/envs/py39/lib/python3.9/site-packages/joblib/parallel.py?line=1049'>1050</a>\u001b[0m     \u001b[39m# consumption.\u001b[39;00m\n",
      "File \u001b[0;32m~/anaconda3/envs/py39/lib/python3.9/site-packages/joblib/parallel.py:859\u001b[0m, in \u001b[0;36mParallel.dispatch_one_batch\u001b[0;34m(self, iterator)\u001b[0m\n\u001b[1;32m    <a href='file:///Users/blueshiner/anaconda3/envs/py39/lib/python3.9/site-packages/joblib/parallel.py?line=856'>857</a>\u001b[0m     \u001b[39mreturn\u001b[39;00m \u001b[39mFalse\u001b[39;00m\n\u001b[1;32m    <a href='file:///Users/blueshiner/anaconda3/envs/py39/lib/python3.9/site-packages/joblib/parallel.py?line=857'>858</a>\u001b[0m \u001b[39melse\u001b[39;00m:\n\u001b[0;32m--> <a href='file:///Users/blueshiner/anaconda3/envs/py39/lib/python3.9/site-packages/joblib/parallel.py?line=858'>859</a>\u001b[0m     \u001b[39mself\u001b[39;49m\u001b[39m.\u001b[39;49m_dispatch(tasks)\n\u001b[1;32m    <a href='file:///Users/blueshiner/anaconda3/envs/py39/lib/python3.9/site-packages/joblib/parallel.py?line=859'>860</a>\u001b[0m     \u001b[39mreturn\u001b[39;00m \u001b[39mTrue\u001b[39;00m\n",
      "File \u001b[0;32m~/anaconda3/envs/py39/lib/python3.9/site-packages/joblib/parallel.py:777\u001b[0m, in \u001b[0;36mParallel._dispatch\u001b[0;34m(self, batch)\u001b[0m\n\u001b[1;32m    <a href='file:///Users/blueshiner/anaconda3/envs/py39/lib/python3.9/site-packages/joblib/parallel.py?line=774'>775</a>\u001b[0m \u001b[39mwith\u001b[39;00m \u001b[39mself\u001b[39m\u001b[39m.\u001b[39m_lock:\n\u001b[1;32m    <a href='file:///Users/blueshiner/anaconda3/envs/py39/lib/python3.9/site-packages/joblib/parallel.py?line=775'>776</a>\u001b[0m     job_idx \u001b[39m=\u001b[39m \u001b[39mlen\u001b[39m(\u001b[39mself\u001b[39m\u001b[39m.\u001b[39m_jobs)\n\u001b[0;32m--> <a href='file:///Users/blueshiner/anaconda3/envs/py39/lib/python3.9/site-packages/joblib/parallel.py?line=776'>777</a>\u001b[0m     job \u001b[39m=\u001b[39m \u001b[39mself\u001b[39;49m\u001b[39m.\u001b[39;49m_backend\u001b[39m.\u001b[39;49mapply_async(batch, callback\u001b[39m=\u001b[39;49mcb)\n\u001b[1;32m    <a href='file:///Users/blueshiner/anaconda3/envs/py39/lib/python3.9/site-packages/joblib/parallel.py?line=777'>778</a>\u001b[0m     \u001b[39m# A job can complete so quickly than its callback is\u001b[39;00m\n\u001b[1;32m    <a href='file:///Users/blueshiner/anaconda3/envs/py39/lib/python3.9/site-packages/joblib/parallel.py?line=778'>779</a>\u001b[0m     \u001b[39m# called before we get here, causing self._jobs to\u001b[39;00m\n\u001b[1;32m    <a href='file:///Users/blueshiner/anaconda3/envs/py39/lib/python3.9/site-packages/joblib/parallel.py?line=779'>780</a>\u001b[0m     \u001b[39m# grow. To ensure correct results ordering, .insert is\u001b[39;00m\n\u001b[1;32m    <a href='file:///Users/blueshiner/anaconda3/envs/py39/lib/python3.9/site-packages/joblib/parallel.py?line=780'>781</a>\u001b[0m     \u001b[39m# used (rather than .append) in the following line\u001b[39;00m\n\u001b[1;32m    <a href='file:///Users/blueshiner/anaconda3/envs/py39/lib/python3.9/site-packages/joblib/parallel.py?line=781'>782</a>\u001b[0m     \u001b[39mself\u001b[39m\u001b[39m.\u001b[39m_jobs\u001b[39m.\u001b[39minsert(job_idx, job)\n",
      "File \u001b[0;32m~/anaconda3/envs/py39/lib/python3.9/site-packages/joblib/_parallel_backends.py:208\u001b[0m, in \u001b[0;36mSequentialBackend.apply_async\u001b[0;34m(self, func, callback)\u001b[0m\n\u001b[1;32m    <a href='file:///Users/blueshiner/anaconda3/envs/py39/lib/python3.9/site-packages/joblib/_parallel_backends.py?line=205'>206</a>\u001b[0m \u001b[39mdef\u001b[39;00m \u001b[39mapply_async\u001b[39m(\u001b[39mself\u001b[39m, func, callback\u001b[39m=\u001b[39m\u001b[39mNone\u001b[39;00m):\n\u001b[1;32m    <a href='file:///Users/blueshiner/anaconda3/envs/py39/lib/python3.9/site-packages/joblib/_parallel_backends.py?line=206'>207</a>\u001b[0m     \u001b[39m\"\"\"Schedule a func to be run\"\"\"\u001b[39;00m\n\u001b[0;32m--> <a href='file:///Users/blueshiner/anaconda3/envs/py39/lib/python3.9/site-packages/joblib/_parallel_backends.py?line=207'>208</a>\u001b[0m     result \u001b[39m=\u001b[39m ImmediateResult(func)\n\u001b[1;32m    <a href='file:///Users/blueshiner/anaconda3/envs/py39/lib/python3.9/site-packages/joblib/_parallel_backends.py?line=208'>209</a>\u001b[0m     \u001b[39mif\u001b[39;00m callback:\n\u001b[1;32m    <a href='file:///Users/blueshiner/anaconda3/envs/py39/lib/python3.9/site-packages/joblib/_parallel_backends.py?line=209'>210</a>\u001b[0m         callback(result)\n",
      "File \u001b[0;32m~/anaconda3/envs/py39/lib/python3.9/site-packages/joblib/_parallel_backends.py:572\u001b[0m, in \u001b[0;36mImmediateResult.__init__\u001b[0;34m(self, batch)\u001b[0m\n\u001b[1;32m    <a href='file:///Users/blueshiner/anaconda3/envs/py39/lib/python3.9/site-packages/joblib/_parallel_backends.py?line=568'>569</a>\u001b[0m \u001b[39mdef\u001b[39;00m \u001b[39m__init__\u001b[39m(\u001b[39mself\u001b[39m, batch):\n\u001b[1;32m    <a href='file:///Users/blueshiner/anaconda3/envs/py39/lib/python3.9/site-packages/joblib/_parallel_backends.py?line=569'>570</a>\u001b[0m     \u001b[39m# Don't delay the application, to avoid keeping the input\u001b[39;00m\n\u001b[1;32m    <a href='file:///Users/blueshiner/anaconda3/envs/py39/lib/python3.9/site-packages/joblib/_parallel_backends.py?line=570'>571</a>\u001b[0m     \u001b[39m# arguments in memory\u001b[39;00m\n\u001b[0;32m--> <a href='file:///Users/blueshiner/anaconda3/envs/py39/lib/python3.9/site-packages/joblib/_parallel_backends.py?line=571'>572</a>\u001b[0m     \u001b[39mself\u001b[39m\u001b[39m.\u001b[39mresults \u001b[39m=\u001b[39m batch()\n",
      "File \u001b[0;32m~/anaconda3/envs/py39/lib/python3.9/site-packages/joblib/parallel.py:262\u001b[0m, in \u001b[0;36mBatchedCalls.__call__\u001b[0;34m(self)\u001b[0m\n\u001b[1;32m    <a href='file:///Users/blueshiner/anaconda3/envs/py39/lib/python3.9/site-packages/joblib/parallel.py?line=257'>258</a>\u001b[0m \u001b[39mdef\u001b[39;00m \u001b[39m__call__\u001b[39m(\u001b[39mself\u001b[39m):\n\u001b[1;32m    <a href='file:///Users/blueshiner/anaconda3/envs/py39/lib/python3.9/site-packages/joblib/parallel.py?line=258'>259</a>\u001b[0m     \u001b[39m# Set the default nested backend to self._backend but do not set the\u001b[39;00m\n\u001b[1;32m    <a href='file:///Users/blueshiner/anaconda3/envs/py39/lib/python3.9/site-packages/joblib/parallel.py?line=259'>260</a>\u001b[0m     \u001b[39m# change the default number of processes to -1\u001b[39;00m\n\u001b[1;32m    <a href='file:///Users/blueshiner/anaconda3/envs/py39/lib/python3.9/site-packages/joblib/parallel.py?line=260'>261</a>\u001b[0m     \u001b[39mwith\u001b[39;00m parallel_backend(\u001b[39mself\u001b[39m\u001b[39m.\u001b[39m_backend, n_jobs\u001b[39m=\u001b[39m\u001b[39mself\u001b[39m\u001b[39m.\u001b[39m_n_jobs):\n\u001b[0;32m--> <a href='file:///Users/blueshiner/anaconda3/envs/py39/lib/python3.9/site-packages/joblib/parallel.py?line=261'>262</a>\u001b[0m         \u001b[39mreturn\u001b[39;00m [func(\u001b[39m*\u001b[39margs, \u001b[39m*\u001b[39m\u001b[39m*\u001b[39mkwargs)\n\u001b[1;32m    <a href='file:///Users/blueshiner/anaconda3/envs/py39/lib/python3.9/site-packages/joblib/parallel.py?line=262'>263</a>\u001b[0m                 \u001b[39mfor\u001b[39;00m func, args, kwargs \u001b[39min\u001b[39;00m \u001b[39mself\u001b[39m\u001b[39m.\u001b[39mitems]\n",
      "File \u001b[0;32m~/anaconda3/envs/py39/lib/python3.9/site-packages/joblib/parallel.py:262\u001b[0m, in \u001b[0;36m<listcomp>\u001b[0;34m(.0)\u001b[0m\n\u001b[1;32m    <a href='file:///Users/blueshiner/anaconda3/envs/py39/lib/python3.9/site-packages/joblib/parallel.py?line=257'>258</a>\u001b[0m \u001b[39mdef\u001b[39;00m \u001b[39m__call__\u001b[39m(\u001b[39mself\u001b[39m):\n\u001b[1;32m    <a href='file:///Users/blueshiner/anaconda3/envs/py39/lib/python3.9/site-packages/joblib/parallel.py?line=258'>259</a>\u001b[0m     \u001b[39m# Set the default nested backend to self._backend but do not set the\u001b[39;00m\n\u001b[1;32m    <a href='file:///Users/blueshiner/anaconda3/envs/py39/lib/python3.9/site-packages/joblib/parallel.py?line=259'>260</a>\u001b[0m     \u001b[39m# change the default number of processes to -1\u001b[39;00m\n\u001b[1;32m    <a href='file:///Users/blueshiner/anaconda3/envs/py39/lib/python3.9/site-packages/joblib/parallel.py?line=260'>261</a>\u001b[0m     \u001b[39mwith\u001b[39;00m parallel_backend(\u001b[39mself\u001b[39m\u001b[39m.\u001b[39m_backend, n_jobs\u001b[39m=\u001b[39m\u001b[39mself\u001b[39m\u001b[39m.\u001b[39m_n_jobs):\n\u001b[0;32m--> <a href='file:///Users/blueshiner/anaconda3/envs/py39/lib/python3.9/site-packages/joblib/parallel.py?line=261'>262</a>\u001b[0m         \u001b[39mreturn\u001b[39;00m [func(\u001b[39m*\u001b[39;49margs, \u001b[39m*\u001b[39;49m\u001b[39m*\u001b[39;49mkwargs)\n\u001b[1;32m    <a href='file:///Users/blueshiner/anaconda3/envs/py39/lib/python3.9/site-packages/joblib/parallel.py?line=262'>263</a>\u001b[0m                 \u001b[39mfor\u001b[39;00m func, args, kwargs \u001b[39min\u001b[39;00m \u001b[39mself\u001b[39m\u001b[39m.\u001b[39mitems]\n",
      "File \u001b[0;32m~/anaconda3/envs/py39/lib/python3.9/site-packages/sklearn/utils/fixes.py:222\u001b[0m, in \u001b[0;36m_FuncWrapper.__call__\u001b[0;34m(self, *args, **kwargs)\u001b[0m\n\u001b[1;32m    <a href='file:///Users/blueshiner/anaconda3/envs/py39/lib/python3.9/site-packages/sklearn/utils/fixes.py?line=219'>220</a>\u001b[0m \u001b[39mdef\u001b[39;00m \u001b[39m__call__\u001b[39m(\u001b[39mself\u001b[39m, \u001b[39m*\u001b[39margs, \u001b[39m*\u001b[39m\u001b[39m*\u001b[39mkwargs):\n\u001b[1;32m    <a href='file:///Users/blueshiner/anaconda3/envs/py39/lib/python3.9/site-packages/sklearn/utils/fixes.py?line=220'>221</a>\u001b[0m     \u001b[39mwith\u001b[39;00m config_context(\u001b[39m*\u001b[39m\u001b[39m*\u001b[39m\u001b[39mself\u001b[39m\u001b[39m.\u001b[39mconfig):\n\u001b[0;32m--> <a href='file:///Users/blueshiner/anaconda3/envs/py39/lib/python3.9/site-packages/sklearn/utils/fixes.py?line=221'>222</a>\u001b[0m         \u001b[39mreturn\u001b[39;00m \u001b[39mself\u001b[39;49m\u001b[39m.\u001b[39;49mfunction(\u001b[39m*\u001b[39;49margs, \u001b[39m*\u001b[39;49m\u001b[39m*\u001b[39;49mkwargs)\n",
      "File \u001b[0;32m~/anaconda3/envs/py39/lib/python3.9/site-packages/sklearn/model_selection/_validation.py:598\u001b[0m, in \u001b[0;36m_fit_and_score\u001b[0;34m(estimator, X, y, scorer, train, test, verbose, parameters, fit_params, return_train_score, return_parameters, return_n_test_samples, return_times, return_estimator, split_progress, candidate_progress, error_score)\u001b[0m\n\u001b[1;32m    <a href='file:///Users/blueshiner/anaconda3/envs/py39/lib/python3.9/site-packages/sklearn/model_selection/_validation.py?line=595'>596</a>\u001b[0m         estimator\u001b[39m.\u001b[39mfit(X_train, \u001b[39m*\u001b[39m\u001b[39m*\u001b[39mfit_params)\n\u001b[1;32m    <a href='file:///Users/blueshiner/anaconda3/envs/py39/lib/python3.9/site-packages/sklearn/model_selection/_validation.py?line=596'>597</a>\u001b[0m     \u001b[39melse\u001b[39;00m:\n\u001b[0;32m--> <a href='file:///Users/blueshiner/anaconda3/envs/py39/lib/python3.9/site-packages/sklearn/model_selection/_validation.py?line=597'>598</a>\u001b[0m         estimator\u001b[39m.\u001b[39;49mfit(X_train, y_train, \u001b[39m*\u001b[39;49m\u001b[39m*\u001b[39;49mfit_params)\n\u001b[1;32m    <a href='file:///Users/blueshiner/anaconda3/envs/py39/lib/python3.9/site-packages/sklearn/model_selection/_validation.py?line=599'>600</a>\u001b[0m \u001b[39mexcept\u001b[39;00m \u001b[39mException\u001b[39;00m \u001b[39mas\u001b[39;00m e:\n\u001b[1;32m    <a href='file:///Users/blueshiner/anaconda3/envs/py39/lib/python3.9/site-packages/sklearn/model_selection/_validation.py?line=600'>601</a>\u001b[0m     \u001b[39m# Note fit time as time until error\u001b[39;00m\n\u001b[1;32m    <a href='file:///Users/blueshiner/anaconda3/envs/py39/lib/python3.9/site-packages/sklearn/model_selection/_validation.py?line=601'>602</a>\u001b[0m     fit_time \u001b[39m=\u001b[39m time\u001b[39m.\u001b[39mtime() \u001b[39m-\u001b[39m start_time\n",
      "File \u001b[0;32m~/anaconda3/envs/py39/lib/python3.9/site-packages/sklearn/multioutput.py:178\u001b[0m, in \u001b[0;36m_MultiOutputEstimator.fit\u001b[0;34m(self, X, y, sample_weight, **fit_params)\u001b[0m\n\u001b[1;32m    <a href='file:///Users/blueshiner/anaconda3/envs/py39/lib/python3.9/site-packages/sklearn/multioutput.py?line=172'>173</a>\u001b[0m     \u001b[39mraise\u001b[39;00m \u001b[39mValueError\u001b[39;00m(\u001b[39m\"\u001b[39m\u001b[39mUnderlying estimator does not support\u001b[39m\u001b[39m\"\u001b[39m\n\u001b[1;32m    <a href='file:///Users/blueshiner/anaconda3/envs/py39/lib/python3.9/site-packages/sklearn/multioutput.py?line=173'>174</a>\u001b[0m                      \u001b[39m\"\u001b[39m\u001b[39m sample weights.\u001b[39m\u001b[39m\"\u001b[39m)\n\u001b[1;32m    <a href='file:///Users/blueshiner/anaconda3/envs/py39/lib/python3.9/site-packages/sklearn/multioutput.py?line=175'>176</a>\u001b[0m fit_params_validated \u001b[39m=\u001b[39m _check_fit_params(X, fit_params)\n\u001b[0;32m--> <a href='file:///Users/blueshiner/anaconda3/envs/py39/lib/python3.9/site-packages/sklearn/multioutput.py?line=177'>178</a>\u001b[0m \u001b[39mself\u001b[39m\u001b[39m.\u001b[39mestimators_ \u001b[39m=\u001b[39m Parallel(n_jobs\u001b[39m=\u001b[39;49m\u001b[39mself\u001b[39;49m\u001b[39m.\u001b[39;49mn_jobs)(\n\u001b[1;32m    <a href='file:///Users/blueshiner/anaconda3/envs/py39/lib/python3.9/site-packages/sklearn/multioutput.py?line=178'>179</a>\u001b[0m     delayed(_fit_estimator)(\n\u001b[1;32m    <a href='file:///Users/blueshiner/anaconda3/envs/py39/lib/python3.9/site-packages/sklearn/multioutput.py?line=179'>180</a>\u001b[0m         \u001b[39mself\u001b[39;49m\u001b[39m.\u001b[39;49mestimator, X, y[:, i], sample_weight,\n\u001b[1;32m    <a href='file:///Users/blueshiner/anaconda3/envs/py39/lib/python3.9/site-packages/sklearn/multioutput.py?line=180'>181</a>\u001b[0m         \u001b[39m*\u001b[39;49m\u001b[39m*\u001b[39;49mfit_params_validated)\n\u001b[1;32m    <a href='file:///Users/blueshiner/anaconda3/envs/py39/lib/python3.9/site-packages/sklearn/multioutput.py?line=181'>182</a>\u001b[0m     \u001b[39mfor\u001b[39;49;00m i \u001b[39min\u001b[39;49;00m \u001b[39mrange\u001b[39;49m(y\u001b[39m.\u001b[39;49mshape[\u001b[39m1\u001b[39;49m]))\n\u001b[1;32m    <a href='file:///Users/blueshiner/anaconda3/envs/py39/lib/python3.9/site-packages/sklearn/multioutput.py?line=182'>183</a>\u001b[0m \u001b[39mreturn\u001b[39;00m \u001b[39mself\u001b[39m\n",
      "File \u001b[0;32m~/anaconda3/envs/py39/lib/python3.9/site-packages/joblib/parallel.py:1044\u001b[0m, in \u001b[0;36mParallel.__call__\u001b[0;34m(self, iterable)\u001b[0m\n\u001b[1;32m   <a href='file:///Users/blueshiner/anaconda3/envs/py39/lib/python3.9/site-packages/joblib/parallel.py?line=1040'>1041</a>\u001b[0m \u001b[39mif\u001b[39;00m \u001b[39mself\u001b[39m\u001b[39m.\u001b[39mdispatch_one_batch(iterator):\n\u001b[1;32m   <a href='file:///Users/blueshiner/anaconda3/envs/py39/lib/python3.9/site-packages/joblib/parallel.py?line=1041'>1042</a>\u001b[0m     \u001b[39mself\u001b[39m\u001b[39m.\u001b[39m_iterating \u001b[39m=\u001b[39m \u001b[39mself\u001b[39m\u001b[39m.\u001b[39m_original_iterator \u001b[39mis\u001b[39;00m \u001b[39mnot\u001b[39;00m \u001b[39mNone\u001b[39;00m\n\u001b[0;32m-> <a href='file:///Users/blueshiner/anaconda3/envs/py39/lib/python3.9/site-packages/joblib/parallel.py?line=1043'>1044</a>\u001b[0m \u001b[39mwhile\u001b[39;00m \u001b[39mself\u001b[39;49m\u001b[39m.\u001b[39;49mdispatch_one_batch(iterator):\n\u001b[1;32m   <a href='file:///Users/blueshiner/anaconda3/envs/py39/lib/python3.9/site-packages/joblib/parallel.py?line=1044'>1045</a>\u001b[0m     \u001b[39mpass\u001b[39;00m\n\u001b[1;32m   <a href='file:///Users/blueshiner/anaconda3/envs/py39/lib/python3.9/site-packages/joblib/parallel.py?line=1046'>1047</a>\u001b[0m \u001b[39mif\u001b[39;00m pre_dispatch \u001b[39m==\u001b[39m \u001b[39m\"\u001b[39m\u001b[39mall\u001b[39m\u001b[39m\"\u001b[39m \u001b[39mor\u001b[39;00m n_jobs \u001b[39m==\u001b[39m \u001b[39m1\u001b[39m:\n\u001b[1;32m   <a href='file:///Users/blueshiner/anaconda3/envs/py39/lib/python3.9/site-packages/joblib/parallel.py?line=1047'>1048</a>\u001b[0m     \u001b[39m# The iterable was consumed all at once by the above for loop.\u001b[39;00m\n\u001b[1;32m   <a href='file:///Users/blueshiner/anaconda3/envs/py39/lib/python3.9/site-packages/joblib/parallel.py?line=1048'>1049</a>\u001b[0m     \u001b[39m# No need to wait for async callbacks to trigger to\u001b[39;00m\n\u001b[1;32m   <a href='file:///Users/blueshiner/anaconda3/envs/py39/lib/python3.9/site-packages/joblib/parallel.py?line=1049'>1050</a>\u001b[0m     \u001b[39m# consumption.\u001b[39;00m\n",
      "File \u001b[0;32m~/anaconda3/envs/py39/lib/python3.9/site-packages/joblib/parallel.py:859\u001b[0m, in \u001b[0;36mParallel.dispatch_one_batch\u001b[0;34m(self, iterator)\u001b[0m\n\u001b[1;32m    <a href='file:///Users/blueshiner/anaconda3/envs/py39/lib/python3.9/site-packages/joblib/parallel.py?line=856'>857</a>\u001b[0m     \u001b[39mreturn\u001b[39;00m \u001b[39mFalse\u001b[39;00m\n\u001b[1;32m    <a href='file:///Users/blueshiner/anaconda3/envs/py39/lib/python3.9/site-packages/joblib/parallel.py?line=857'>858</a>\u001b[0m \u001b[39melse\u001b[39;00m:\n\u001b[0;32m--> <a href='file:///Users/blueshiner/anaconda3/envs/py39/lib/python3.9/site-packages/joblib/parallel.py?line=858'>859</a>\u001b[0m     \u001b[39mself\u001b[39;49m\u001b[39m.\u001b[39;49m_dispatch(tasks)\n\u001b[1;32m    <a href='file:///Users/blueshiner/anaconda3/envs/py39/lib/python3.9/site-packages/joblib/parallel.py?line=859'>860</a>\u001b[0m     \u001b[39mreturn\u001b[39;00m \u001b[39mTrue\u001b[39;00m\n",
      "File \u001b[0;32m~/anaconda3/envs/py39/lib/python3.9/site-packages/joblib/parallel.py:777\u001b[0m, in \u001b[0;36mParallel._dispatch\u001b[0;34m(self, batch)\u001b[0m\n\u001b[1;32m    <a href='file:///Users/blueshiner/anaconda3/envs/py39/lib/python3.9/site-packages/joblib/parallel.py?line=774'>775</a>\u001b[0m \u001b[39mwith\u001b[39;00m \u001b[39mself\u001b[39m\u001b[39m.\u001b[39m_lock:\n\u001b[1;32m    <a href='file:///Users/blueshiner/anaconda3/envs/py39/lib/python3.9/site-packages/joblib/parallel.py?line=775'>776</a>\u001b[0m     job_idx \u001b[39m=\u001b[39m \u001b[39mlen\u001b[39m(\u001b[39mself\u001b[39m\u001b[39m.\u001b[39m_jobs)\n\u001b[0;32m--> <a href='file:///Users/blueshiner/anaconda3/envs/py39/lib/python3.9/site-packages/joblib/parallel.py?line=776'>777</a>\u001b[0m     job \u001b[39m=\u001b[39m \u001b[39mself\u001b[39;49m\u001b[39m.\u001b[39;49m_backend\u001b[39m.\u001b[39;49mapply_async(batch, callback\u001b[39m=\u001b[39;49mcb)\n\u001b[1;32m    <a href='file:///Users/blueshiner/anaconda3/envs/py39/lib/python3.9/site-packages/joblib/parallel.py?line=777'>778</a>\u001b[0m     \u001b[39m# A job can complete so quickly than its callback is\u001b[39;00m\n\u001b[1;32m    <a href='file:///Users/blueshiner/anaconda3/envs/py39/lib/python3.9/site-packages/joblib/parallel.py?line=778'>779</a>\u001b[0m     \u001b[39m# called before we get here, causing self._jobs to\u001b[39;00m\n\u001b[1;32m    <a href='file:///Users/blueshiner/anaconda3/envs/py39/lib/python3.9/site-packages/joblib/parallel.py?line=779'>780</a>\u001b[0m     \u001b[39m# grow. To ensure correct results ordering, .insert is\u001b[39;00m\n\u001b[1;32m    <a href='file:///Users/blueshiner/anaconda3/envs/py39/lib/python3.9/site-packages/joblib/parallel.py?line=780'>781</a>\u001b[0m     \u001b[39m# used (rather than .append) in the following line\u001b[39;00m\n\u001b[1;32m    <a href='file:///Users/blueshiner/anaconda3/envs/py39/lib/python3.9/site-packages/joblib/parallel.py?line=781'>782</a>\u001b[0m     \u001b[39mself\u001b[39m\u001b[39m.\u001b[39m_jobs\u001b[39m.\u001b[39minsert(job_idx, job)\n",
      "File \u001b[0;32m~/anaconda3/envs/py39/lib/python3.9/site-packages/joblib/_parallel_backends.py:208\u001b[0m, in \u001b[0;36mSequentialBackend.apply_async\u001b[0;34m(self, func, callback)\u001b[0m\n\u001b[1;32m    <a href='file:///Users/blueshiner/anaconda3/envs/py39/lib/python3.9/site-packages/joblib/_parallel_backends.py?line=205'>206</a>\u001b[0m \u001b[39mdef\u001b[39;00m \u001b[39mapply_async\u001b[39m(\u001b[39mself\u001b[39m, func, callback\u001b[39m=\u001b[39m\u001b[39mNone\u001b[39;00m):\n\u001b[1;32m    <a href='file:///Users/blueshiner/anaconda3/envs/py39/lib/python3.9/site-packages/joblib/_parallel_backends.py?line=206'>207</a>\u001b[0m     \u001b[39m\"\"\"Schedule a func to be run\"\"\"\u001b[39;00m\n\u001b[0;32m--> <a href='file:///Users/blueshiner/anaconda3/envs/py39/lib/python3.9/site-packages/joblib/_parallel_backends.py?line=207'>208</a>\u001b[0m     result \u001b[39m=\u001b[39m ImmediateResult(func)\n\u001b[1;32m    <a href='file:///Users/blueshiner/anaconda3/envs/py39/lib/python3.9/site-packages/joblib/_parallel_backends.py?line=208'>209</a>\u001b[0m     \u001b[39mif\u001b[39;00m callback:\n\u001b[1;32m    <a href='file:///Users/blueshiner/anaconda3/envs/py39/lib/python3.9/site-packages/joblib/_parallel_backends.py?line=209'>210</a>\u001b[0m         callback(result)\n",
      "File \u001b[0;32m~/anaconda3/envs/py39/lib/python3.9/site-packages/joblib/_parallel_backends.py:572\u001b[0m, in \u001b[0;36mImmediateResult.__init__\u001b[0;34m(self, batch)\u001b[0m\n\u001b[1;32m    <a href='file:///Users/blueshiner/anaconda3/envs/py39/lib/python3.9/site-packages/joblib/_parallel_backends.py?line=568'>569</a>\u001b[0m \u001b[39mdef\u001b[39;00m \u001b[39m__init__\u001b[39m(\u001b[39mself\u001b[39m, batch):\n\u001b[1;32m    <a href='file:///Users/blueshiner/anaconda3/envs/py39/lib/python3.9/site-packages/joblib/_parallel_backends.py?line=569'>570</a>\u001b[0m     \u001b[39m# Don't delay the application, to avoid keeping the input\u001b[39;00m\n\u001b[1;32m    <a href='file:///Users/blueshiner/anaconda3/envs/py39/lib/python3.9/site-packages/joblib/_parallel_backends.py?line=570'>571</a>\u001b[0m     \u001b[39m# arguments in memory\u001b[39;00m\n\u001b[0;32m--> <a href='file:///Users/blueshiner/anaconda3/envs/py39/lib/python3.9/site-packages/joblib/_parallel_backends.py?line=571'>572</a>\u001b[0m     \u001b[39mself\u001b[39m\u001b[39m.\u001b[39mresults \u001b[39m=\u001b[39m batch()\n",
      "File \u001b[0;32m~/anaconda3/envs/py39/lib/python3.9/site-packages/joblib/parallel.py:262\u001b[0m, in \u001b[0;36mBatchedCalls.__call__\u001b[0;34m(self)\u001b[0m\n\u001b[1;32m    <a href='file:///Users/blueshiner/anaconda3/envs/py39/lib/python3.9/site-packages/joblib/parallel.py?line=257'>258</a>\u001b[0m \u001b[39mdef\u001b[39;00m \u001b[39m__call__\u001b[39m(\u001b[39mself\u001b[39m):\n\u001b[1;32m    <a href='file:///Users/blueshiner/anaconda3/envs/py39/lib/python3.9/site-packages/joblib/parallel.py?line=258'>259</a>\u001b[0m     \u001b[39m# Set the default nested backend to self._backend but do not set the\u001b[39;00m\n\u001b[1;32m    <a href='file:///Users/blueshiner/anaconda3/envs/py39/lib/python3.9/site-packages/joblib/parallel.py?line=259'>260</a>\u001b[0m     \u001b[39m# change the default number of processes to -1\u001b[39;00m\n\u001b[1;32m    <a href='file:///Users/blueshiner/anaconda3/envs/py39/lib/python3.9/site-packages/joblib/parallel.py?line=260'>261</a>\u001b[0m     \u001b[39mwith\u001b[39;00m parallel_backend(\u001b[39mself\u001b[39m\u001b[39m.\u001b[39m_backend, n_jobs\u001b[39m=\u001b[39m\u001b[39mself\u001b[39m\u001b[39m.\u001b[39m_n_jobs):\n\u001b[0;32m--> <a href='file:///Users/blueshiner/anaconda3/envs/py39/lib/python3.9/site-packages/joblib/parallel.py?line=261'>262</a>\u001b[0m         \u001b[39mreturn\u001b[39;00m [func(\u001b[39m*\u001b[39margs, \u001b[39m*\u001b[39m\u001b[39m*\u001b[39mkwargs)\n\u001b[1;32m    <a href='file:///Users/blueshiner/anaconda3/envs/py39/lib/python3.9/site-packages/joblib/parallel.py?line=262'>263</a>\u001b[0m                 \u001b[39mfor\u001b[39;00m func, args, kwargs \u001b[39min\u001b[39;00m \u001b[39mself\u001b[39m\u001b[39m.\u001b[39mitems]\n",
      "File \u001b[0;32m~/anaconda3/envs/py39/lib/python3.9/site-packages/joblib/parallel.py:262\u001b[0m, in \u001b[0;36m<listcomp>\u001b[0;34m(.0)\u001b[0m\n\u001b[1;32m    <a href='file:///Users/blueshiner/anaconda3/envs/py39/lib/python3.9/site-packages/joblib/parallel.py?line=257'>258</a>\u001b[0m \u001b[39mdef\u001b[39;00m \u001b[39m__call__\u001b[39m(\u001b[39mself\u001b[39m):\n\u001b[1;32m    <a href='file:///Users/blueshiner/anaconda3/envs/py39/lib/python3.9/site-packages/joblib/parallel.py?line=258'>259</a>\u001b[0m     \u001b[39m# Set the default nested backend to self._backend but do not set the\u001b[39;00m\n\u001b[1;32m    <a href='file:///Users/blueshiner/anaconda3/envs/py39/lib/python3.9/site-packages/joblib/parallel.py?line=259'>260</a>\u001b[0m     \u001b[39m# change the default number of processes to -1\u001b[39;00m\n\u001b[1;32m    <a href='file:///Users/blueshiner/anaconda3/envs/py39/lib/python3.9/site-packages/joblib/parallel.py?line=260'>261</a>\u001b[0m     \u001b[39mwith\u001b[39;00m parallel_backend(\u001b[39mself\u001b[39m\u001b[39m.\u001b[39m_backend, n_jobs\u001b[39m=\u001b[39m\u001b[39mself\u001b[39m\u001b[39m.\u001b[39m_n_jobs):\n\u001b[0;32m--> <a href='file:///Users/blueshiner/anaconda3/envs/py39/lib/python3.9/site-packages/joblib/parallel.py?line=261'>262</a>\u001b[0m         \u001b[39mreturn\u001b[39;00m [func(\u001b[39m*\u001b[39;49margs, \u001b[39m*\u001b[39;49m\u001b[39m*\u001b[39;49mkwargs)\n\u001b[1;32m    <a href='file:///Users/blueshiner/anaconda3/envs/py39/lib/python3.9/site-packages/joblib/parallel.py?line=262'>263</a>\u001b[0m                 \u001b[39mfor\u001b[39;00m func, args, kwargs \u001b[39min\u001b[39;00m \u001b[39mself\u001b[39m\u001b[39m.\u001b[39mitems]\n",
      "File \u001b[0;32m~/anaconda3/envs/py39/lib/python3.9/site-packages/sklearn/utils/fixes.py:222\u001b[0m, in \u001b[0;36m_FuncWrapper.__call__\u001b[0;34m(self, *args, **kwargs)\u001b[0m\n\u001b[1;32m    <a href='file:///Users/blueshiner/anaconda3/envs/py39/lib/python3.9/site-packages/sklearn/utils/fixes.py?line=219'>220</a>\u001b[0m \u001b[39mdef\u001b[39;00m \u001b[39m__call__\u001b[39m(\u001b[39mself\u001b[39m, \u001b[39m*\u001b[39margs, \u001b[39m*\u001b[39m\u001b[39m*\u001b[39mkwargs):\n\u001b[1;32m    <a href='file:///Users/blueshiner/anaconda3/envs/py39/lib/python3.9/site-packages/sklearn/utils/fixes.py?line=220'>221</a>\u001b[0m     \u001b[39mwith\u001b[39;00m config_context(\u001b[39m*\u001b[39m\u001b[39m*\u001b[39m\u001b[39mself\u001b[39m\u001b[39m.\u001b[39mconfig):\n\u001b[0;32m--> <a href='file:///Users/blueshiner/anaconda3/envs/py39/lib/python3.9/site-packages/sklearn/utils/fixes.py?line=221'>222</a>\u001b[0m         \u001b[39mreturn\u001b[39;00m \u001b[39mself\u001b[39;49m\u001b[39m.\u001b[39;49mfunction(\u001b[39m*\u001b[39;49margs, \u001b[39m*\u001b[39;49m\u001b[39m*\u001b[39;49mkwargs)\n",
      "File \u001b[0;32m~/anaconda3/envs/py39/lib/python3.9/site-packages/sklearn/multioutput.py:41\u001b[0m, in \u001b[0;36m_fit_estimator\u001b[0;34m(estimator, X, y, sample_weight, **fit_params)\u001b[0m\n\u001b[1;32m     <a href='file:///Users/blueshiner/anaconda3/envs/py39/lib/python3.9/site-packages/sklearn/multioutput.py?line=38'>39</a>\u001b[0m     estimator\u001b[39m.\u001b[39mfit(X, y, sample_weight\u001b[39m=\u001b[39msample_weight, \u001b[39m*\u001b[39m\u001b[39m*\u001b[39mfit_params)\n\u001b[1;32m     <a href='file:///Users/blueshiner/anaconda3/envs/py39/lib/python3.9/site-packages/sklearn/multioutput.py?line=39'>40</a>\u001b[0m \u001b[39melse\u001b[39;00m:\n\u001b[0;32m---> <a href='file:///Users/blueshiner/anaconda3/envs/py39/lib/python3.9/site-packages/sklearn/multioutput.py?line=40'>41</a>\u001b[0m     estimator\u001b[39m.\u001b[39;49mfit(X, y, \u001b[39m*\u001b[39;49m\u001b[39m*\u001b[39;49mfit_params)\n\u001b[1;32m     <a href='file:///Users/blueshiner/anaconda3/envs/py39/lib/python3.9/site-packages/sklearn/multioutput.py?line=41'>42</a>\u001b[0m \u001b[39mreturn\u001b[39;00m estimator\n",
      "File \u001b[0;32m~/anaconda3/envs/py39/lib/python3.9/site-packages/sklearn/ensemble/_gb.py:504\u001b[0m, in \u001b[0;36mBaseGradientBoosting.fit\u001b[0;34m(self, X, y, sample_weight, monitor)\u001b[0m\n\u001b[1;32m    <a href='file:///Users/blueshiner/anaconda3/envs/py39/lib/python3.9/site-packages/sklearn/ensemble/_gb.py?line=500'>501</a>\u001b[0m     \u001b[39mself\u001b[39m\u001b[39m.\u001b[39m_resize_state()\n\u001b[1;32m    <a href='file:///Users/blueshiner/anaconda3/envs/py39/lib/python3.9/site-packages/sklearn/ensemble/_gb.py?line=502'>503</a>\u001b[0m \u001b[39m# fit the boosting stages\u001b[39;00m\n\u001b[0;32m--> <a href='file:///Users/blueshiner/anaconda3/envs/py39/lib/python3.9/site-packages/sklearn/ensemble/_gb.py?line=503'>504</a>\u001b[0m n_stages \u001b[39m=\u001b[39m \u001b[39mself\u001b[39;49m\u001b[39m.\u001b[39;49m_fit_stages(\n\u001b[1;32m    <a href='file:///Users/blueshiner/anaconda3/envs/py39/lib/python3.9/site-packages/sklearn/ensemble/_gb.py?line=504'>505</a>\u001b[0m     X, y, raw_predictions, sample_weight, \u001b[39mself\u001b[39;49m\u001b[39m.\u001b[39;49m_rng, X_val, y_val,\n\u001b[1;32m    <a href='file:///Users/blueshiner/anaconda3/envs/py39/lib/python3.9/site-packages/sklearn/ensemble/_gb.py?line=505'>506</a>\u001b[0m     sample_weight_val, begin_at_stage, monitor)\n\u001b[1;32m    <a href='file:///Users/blueshiner/anaconda3/envs/py39/lib/python3.9/site-packages/sklearn/ensemble/_gb.py?line=507'>508</a>\u001b[0m \u001b[39m# change shape of arrays after fit (early-stopping or additional ests)\u001b[39;00m\n\u001b[1;32m    <a href='file:///Users/blueshiner/anaconda3/envs/py39/lib/python3.9/site-packages/sklearn/ensemble/_gb.py?line=508'>509</a>\u001b[0m \u001b[39mif\u001b[39;00m n_stages \u001b[39m!=\u001b[39m \u001b[39mself\u001b[39m\u001b[39m.\u001b[39mestimators_\u001b[39m.\u001b[39mshape[\u001b[39m0\u001b[39m]:\n",
      "File \u001b[0;32m~/anaconda3/envs/py39/lib/python3.9/site-packages/sklearn/ensemble/_gb.py:561\u001b[0m, in \u001b[0;36mBaseGradientBoosting._fit_stages\u001b[0;34m(self, X, y, raw_predictions, sample_weight, random_state, X_val, y_val, sample_weight_val, begin_at_stage, monitor)\u001b[0m\n\u001b[1;32m    <a href='file:///Users/blueshiner/anaconda3/envs/py39/lib/python3.9/site-packages/sklearn/ensemble/_gb.py?line=555'>556</a>\u001b[0m     old_oob_score \u001b[39m=\u001b[39m loss_(y[\u001b[39m~\u001b[39msample_mask],\n\u001b[1;32m    <a href='file:///Users/blueshiner/anaconda3/envs/py39/lib/python3.9/site-packages/sklearn/ensemble/_gb.py?line=556'>557</a>\u001b[0m                           raw_predictions[\u001b[39m~\u001b[39msample_mask],\n\u001b[1;32m    <a href='file:///Users/blueshiner/anaconda3/envs/py39/lib/python3.9/site-packages/sklearn/ensemble/_gb.py?line=557'>558</a>\u001b[0m                           sample_weight[\u001b[39m~\u001b[39msample_mask])\n\u001b[1;32m    <a href='file:///Users/blueshiner/anaconda3/envs/py39/lib/python3.9/site-packages/sklearn/ensemble/_gb.py?line=559'>560</a>\u001b[0m \u001b[39m# fit next stage of trees\u001b[39;00m\n\u001b[0;32m--> <a href='file:///Users/blueshiner/anaconda3/envs/py39/lib/python3.9/site-packages/sklearn/ensemble/_gb.py?line=560'>561</a>\u001b[0m raw_predictions \u001b[39m=\u001b[39m \u001b[39mself\u001b[39;49m\u001b[39m.\u001b[39;49m_fit_stage(\n\u001b[1;32m    <a href='file:///Users/blueshiner/anaconda3/envs/py39/lib/python3.9/site-packages/sklearn/ensemble/_gb.py?line=561'>562</a>\u001b[0m     i, X, y, raw_predictions, sample_weight, sample_mask,\n\u001b[1;32m    <a href='file:///Users/blueshiner/anaconda3/envs/py39/lib/python3.9/site-packages/sklearn/ensemble/_gb.py?line=562'>563</a>\u001b[0m     random_state, X_csc, X_csr)\n\u001b[1;32m    <a href='file:///Users/blueshiner/anaconda3/envs/py39/lib/python3.9/site-packages/sklearn/ensemble/_gb.py?line=564'>565</a>\u001b[0m \u001b[39m# track deviance (= loss)\u001b[39;00m\n\u001b[1;32m    <a href='file:///Users/blueshiner/anaconda3/envs/py39/lib/python3.9/site-packages/sklearn/ensemble/_gb.py?line=565'>566</a>\u001b[0m \u001b[39mif\u001b[39;00m do_oob:\n",
      "File \u001b[0;32m~/anaconda3/envs/py39/lib/python3.9/site-packages/sklearn/ensemble/_gb.py:214\u001b[0m, in \u001b[0;36mBaseGradientBoosting._fit_stage\u001b[0;34m(self, i, X, y, raw_predictions, sample_weight, sample_mask, random_state, X_csc, X_csr)\u001b[0m\n\u001b[1;32m    <a href='file:///Users/blueshiner/anaconda3/envs/py39/lib/python3.9/site-packages/sklearn/ensemble/_gb.py?line=210'>211</a>\u001b[0m     sample_weight \u001b[39m=\u001b[39m sample_weight \u001b[39m*\u001b[39m sample_mask\u001b[39m.\u001b[39mastype(np\u001b[39m.\u001b[39mfloat64)\n\u001b[1;32m    <a href='file:///Users/blueshiner/anaconda3/envs/py39/lib/python3.9/site-packages/sklearn/ensemble/_gb.py?line=212'>213</a>\u001b[0m X \u001b[39m=\u001b[39m X_csr \u001b[39mif\u001b[39;00m X_csr \u001b[39mis\u001b[39;00m \u001b[39mnot\u001b[39;00m \u001b[39mNone\u001b[39;00m \u001b[39melse\u001b[39;00m X\n\u001b[0;32m--> <a href='file:///Users/blueshiner/anaconda3/envs/py39/lib/python3.9/site-packages/sklearn/ensemble/_gb.py?line=213'>214</a>\u001b[0m tree\u001b[39m.\u001b[39;49mfit(X, residual, sample_weight\u001b[39m=\u001b[39;49msample_weight,\n\u001b[1;32m    <a href='file:///Users/blueshiner/anaconda3/envs/py39/lib/python3.9/site-packages/sklearn/ensemble/_gb.py?line=214'>215</a>\u001b[0m          check_input\u001b[39m=\u001b[39;49m\u001b[39mFalse\u001b[39;49;00m)\n\u001b[1;32m    <a href='file:///Users/blueshiner/anaconda3/envs/py39/lib/python3.9/site-packages/sklearn/ensemble/_gb.py?line=216'>217</a>\u001b[0m \u001b[39m# update tree leaves\u001b[39;00m\n\u001b[1;32m    <a href='file:///Users/blueshiner/anaconda3/envs/py39/lib/python3.9/site-packages/sklearn/ensemble/_gb.py?line=217'>218</a>\u001b[0m loss\u001b[39m.\u001b[39mupdate_terminal_regions(\n\u001b[1;32m    <a href='file:///Users/blueshiner/anaconda3/envs/py39/lib/python3.9/site-packages/sklearn/ensemble/_gb.py?line=218'>219</a>\u001b[0m     tree\u001b[39m.\u001b[39mtree_, X, y, residual, raw_predictions, sample_weight,\n\u001b[1;32m    <a href='file:///Users/blueshiner/anaconda3/envs/py39/lib/python3.9/site-packages/sklearn/ensemble/_gb.py?line=219'>220</a>\u001b[0m     sample_mask, learning_rate\u001b[39m=\u001b[39m\u001b[39mself\u001b[39m\u001b[39m.\u001b[39mlearning_rate, k\u001b[39m=\u001b[39mk)\n",
      "File \u001b[0;32m~/anaconda3/envs/py39/lib/python3.9/site-packages/sklearn/tree/_classes.py:1252\u001b[0m, in \u001b[0;36mDecisionTreeRegressor.fit\u001b[0;34m(self, X, y, sample_weight, check_input, X_idx_sorted)\u001b[0m\n\u001b[1;32m   <a href='file:///Users/blueshiner/anaconda3/envs/py39/lib/python3.9/site-packages/sklearn/tree/_classes.py?line=1215'>1216</a>\u001b[0m \u001b[39mdef\u001b[39;00m \u001b[39mfit\u001b[39m(\u001b[39mself\u001b[39m, X, y, sample_weight\u001b[39m=\u001b[39m\u001b[39mNone\u001b[39;00m, check_input\u001b[39m=\u001b[39m\u001b[39mTrue\u001b[39;00m,\n\u001b[1;32m   <a href='file:///Users/blueshiner/anaconda3/envs/py39/lib/python3.9/site-packages/sklearn/tree/_classes.py?line=1216'>1217</a>\u001b[0m         X_idx_sorted\u001b[39m=\u001b[39m\u001b[39m\"\u001b[39m\u001b[39mdeprecated\u001b[39m\u001b[39m\"\u001b[39m):\n\u001b[1;32m   <a href='file:///Users/blueshiner/anaconda3/envs/py39/lib/python3.9/site-packages/sklearn/tree/_classes.py?line=1217'>1218</a>\u001b[0m     \u001b[39m\"\"\"Build a decision tree regressor from the training set (X, y).\u001b[39;00m\n\u001b[1;32m   <a href='file:///Users/blueshiner/anaconda3/envs/py39/lib/python3.9/site-packages/sklearn/tree/_classes.py?line=1218'>1219</a>\u001b[0m \n\u001b[1;32m   <a href='file:///Users/blueshiner/anaconda3/envs/py39/lib/python3.9/site-packages/sklearn/tree/_classes.py?line=1219'>1220</a>\u001b[0m \u001b[39m    Parameters\u001b[39;00m\n\u001b[0;32m   (...)\u001b[0m\n\u001b[1;32m   <a href='file:///Users/blueshiner/anaconda3/envs/py39/lib/python3.9/site-packages/sklearn/tree/_classes.py?line=1248'>1249</a>\u001b[0m \u001b[39m        Fitted estimator.\u001b[39;00m\n\u001b[1;32m   <a href='file:///Users/blueshiner/anaconda3/envs/py39/lib/python3.9/site-packages/sklearn/tree/_classes.py?line=1249'>1250</a>\u001b[0m \u001b[39m    \"\"\"\u001b[39;00m\n\u001b[0;32m-> <a href='file:///Users/blueshiner/anaconda3/envs/py39/lib/python3.9/site-packages/sklearn/tree/_classes.py?line=1251'>1252</a>\u001b[0m     \u001b[39msuper\u001b[39;49m()\u001b[39m.\u001b[39;49mfit(\n\u001b[1;32m   <a href='file:///Users/blueshiner/anaconda3/envs/py39/lib/python3.9/site-packages/sklearn/tree/_classes.py?line=1252'>1253</a>\u001b[0m         X, y,\n\u001b[1;32m   <a href='file:///Users/blueshiner/anaconda3/envs/py39/lib/python3.9/site-packages/sklearn/tree/_classes.py?line=1253'>1254</a>\u001b[0m         sample_weight\u001b[39m=\u001b[39;49msample_weight,\n\u001b[1;32m   <a href='file:///Users/blueshiner/anaconda3/envs/py39/lib/python3.9/site-packages/sklearn/tree/_classes.py?line=1254'>1255</a>\u001b[0m         check_input\u001b[39m=\u001b[39;49mcheck_input,\n\u001b[1;32m   <a href='file:///Users/blueshiner/anaconda3/envs/py39/lib/python3.9/site-packages/sklearn/tree/_classes.py?line=1255'>1256</a>\u001b[0m         X_idx_sorted\u001b[39m=\u001b[39;49mX_idx_sorted)\n\u001b[1;32m   <a href='file:///Users/blueshiner/anaconda3/envs/py39/lib/python3.9/site-packages/sklearn/tree/_classes.py?line=1256'>1257</a>\u001b[0m     \u001b[39mreturn\u001b[39;00m \u001b[39mself\u001b[39m\n",
      "File \u001b[0;32m~/anaconda3/envs/py39/lib/python3.9/site-packages/sklearn/tree/_classes.py:394\u001b[0m, in \u001b[0;36mBaseDecisionTree.fit\u001b[0;34m(self, X, y, sample_weight, check_input, X_idx_sorted)\u001b[0m\n\u001b[1;32m    <a href='file:///Users/blueshiner/anaconda3/envs/py39/lib/python3.9/site-packages/sklearn/tree/_classes.py?line=384'>385</a>\u001b[0m \u001b[39melse\u001b[39;00m:\n\u001b[1;32m    <a href='file:///Users/blueshiner/anaconda3/envs/py39/lib/python3.9/site-packages/sklearn/tree/_classes.py?line=385'>386</a>\u001b[0m     builder \u001b[39m=\u001b[39m BestFirstTreeBuilder(splitter, min_samples_split,\n\u001b[1;32m    <a href='file:///Users/blueshiner/anaconda3/envs/py39/lib/python3.9/site-packages/sklearn/tree/_classes.py?line=386'>387</a>\u001b[0m                                    min_samples_leaf,\n\u001b[1;32m    <a href='file:///Users/blueshiner/anaconda3/envs/py39/lib/python3.9/site-packages/sklearn/tree/_classes.py?line=387'>388</a>\u001b[0m                                    min_weight_leaf,\n\u001b[0;32m   (...)\u001b[0m\n\u001b[1;32m    <a href='file:///Users/blueshiner/anaconda3/envs/py39/lib/python3.9/site-packages/sklearn/tree/_classes.py?line=390'>391</a>\u001b[0m                                    \u001b[39mself\u001b[39m\u001b[39m.\u001b[39mmin_impurity_decrease,\n\u001b[1;32m    <a href='file:///Users/blueshiner/anaconda3/envs/py39/lib/python3.9/site-packages/sklearn/tree/_classes.py?line=391'>392</a>\u001b[0m                                    min_impurity_split)\n\u001b[0;32m--> <a href='file:///Users/blueshiner/anaconda3/envs/py39/lib/python3.9/site-packages/sklearn/tree/_classes.py?line=393'>394</a>\u001b[0m builder\u001b[39m.\u001b[39;49mbuild(\u001b[39mself\u001b[39;49m\u001b[39m.\u001b[39;49mtree_, X, y, sample_weight)\n\u001b[1;32m    <a href='file:///Users/blueshiner/anaconda3/envs/py39/lib/python3.9/site-packages/sklearn/tree/_classes.py?line=395'>396</a>\u001b[0m \u001b[39mif\u001b[39;00m \u001b[39mself\u001b[39m\u001b[39m.\u001b[39mn_outputs_ \u001b[39m==\u001b[39m \u001b[39m1\u001b[39m \u001b[39mand\u001b[39;00m is_classifier(\u001b[39mself\u001b[39m):\n\u001b[1;32m    <a href='file:///Users/blueshiner/anaconda3/envs/py39/lib/python3.9/site-packages/sklearn/tree/_classes.py?line=396'>397</a>\u001b[0m     \u001b[39mself\u001b[39m\u001b[39m.\u001b[39mn_classes_ \u001b[39m=\u001b[39m \u001b[39mself\u001b[39m\u001b[39m.\u001b[39mn_classes_[\u001b[39m0\u001b[39m]\n",
      "\u001b[0;31mKeyboardInterrupt\u001b[0m: "
     ]
    }
   ],
   "source": [
    "from sklearn.model_selection import StratifiedShuffleSplit\n",
    "param_grid = {\n",
    "  'estimator__n_estimators':[10, 20, 50, 100, 500, 1000], \n",
    "  'estimator__subsample':[0.8, 1], \n",
    "  'estimator__max_depth':[3, 4, 5, 6, 7, 8, 9]}\n",
    "\n",
    "# Split data into \"trainning data\", \"testing data\", and \"validation data\"\n",
    "cv = StratifiedShuffleSplit(n_splits=5, test_size=0.4, random_state=12)\n",
    "# Try different model parameters\n",
    "cc = GradientBoostingRegressor()\n",
    "grid = GridSearchCV(MultiOutputRegressor(cc), param_grid=param_grid)#, cv=cv, verbose=5, n_jobs=-1)\n",
    "# Train model\n",
    "grid.fit(train_x, train_y)\n",
    "\n",
    "\n",
    "\n",
    "grid.best_params_"
   ]
  },
  {
   "cell_type": "code",
   "execution_count": null,
   "metadata": {},
   "outputs": [],
   "source": [
    "clf = MultiOutputRegressor(GradientBoostingRegressor())\n",
    "clf.fit(train_x, train_y)"
   ]
  },
  {
   "cell_type": "code",
   "execution_count": null,
   "metadata": {},
   "outputs": [],
   "source": [
    "#save models\n",
    "import pickle\n",
    "\n",
    "pickle.dump(clf, open(\"pretrained.pickle\", 'wb'))\n",
    "clf = pickle.loads(\"pretrained.pickle\")"
   ]
  },
  {
   "cell_type": "code",
   "execution_count": 50,
   "metadata": {},
   "outputs": [],
   "source": [
    "# Python:\n",
    "#!python3 --version\n",
    "\n",
    "# Pip:\n",
    "#!pip --version\n",
    "\n",
    "# matplotlob, numpy, pandas, sklearn, scipy, seaborn\n",
    "import matplotlib\n",
    "#print('The matplotlib version is {}'. format(matplotlib. __version__)) \n",
    "import numpy as np\n",
    "#print('The numpy version is {}.'.format(np.__version__))\n",
    "import pandas as pd\n",
    "#print('The pandas version is {}.'.format(pd.__version__))\n",
    "import sklearn\n",
    "#print('The scikit-learn version is {}.'.format(sklearn.__version__))\n",
    "import scipy\n",
    "#print('The scipy version is {}.'.format(scipy.__version__))\n",
    "import seaborn as sns\n",
    "#print('The seaborn version is {}.'.format(sns.__version__))\n",
    "from scipy.stats import skew\n",
    "from scipy.stats import kurtosis"
   ]
  },
  {
   "cell_type": "code",
   "execution_count": 51,
   "metadata": {},
   "outputs": [],
   "source": [
    "dd1 = pd.read_csv(\"sample_data/consumption.csv\", index_col=None)\n",
    "dd2 = pd.read_csv(\"sample_data/generation.csv\", index_col=None)\n",
    "\n",
    "dd1['generation'] = dd2['generation'].copy()"
   ]
  },
  {
   "cell_type": "code",
   "execution_count": 52,
   "metadata": {},
   "outputs": [
    {
     "data": {
      "text/html": [
       "<div>\n",
       "<style scoped>\n",
       "    .dataframe tbody tr th:only-of-type {\n",
       "        vertical-align: middle;\n",
       "    }\n",
       "\n",
       "    .dataframe tbody tr th {\n",
       "        vertical-align: top;\n",
       "    }\n",
       "\n",
       "    .dataframe thead th {\n",
       "        text-align: right;\n",
       "    }\n",
       "</style>\n",
       "<table border=\"1\" class=\"dataframe\">\n",
       "  <thead>\n",
       "    <tr style=\"text-align: right;\">\n",
       "      <th></th>\n",
       "      <th>time</th>\n",
       "      <th>consumption</th>\n",
       "      <th>generation</th>\n",
       "    </tr>\n",
       "  </thead>\n",
       "  <tbody>\n",
       "    <tr>\n",
       "      <th>0</th>\n",
       "      <td>2018-08-25 00:00:00</td>\n",
       "      <td>2.63</td>\n",
       "      <td>0.00</td>\n",
       "    </tr>\n",
       "    <tr>\n",
       "      <th>1</th>\n",
       "      <td>2018-08-25 01:00:00</td>\n",
       "      <td>4.15</td>\n",
       "      <td>0.00</td>\n",
       "    </tr>\n",
       "    <tr>\n",
       "      <th>2</th>\n",
       "      <td>2018-08-25 02:00:00</td>\n",
       "      <td>4.91</td>\n",
       "      <td>0.01</td>\n",
       "    </tr>\n",
       "    <tr>\n",
       "      <th>3</th>\n",
       "      <td>2018-08-25 03:00:00</td>\n",
       "      <td>5.15</td>\n",
       "      <td>0.01</td>\n",
       "    </tr>\n",
       "    <tr>\n",
       "      <th>4</th>\n",
       "      <td>2018-08-25 04:00:00</td>\n",
       "      <td>4.87</td>\n",
       "      <td>0.01</td>\n",
       "    </tr>\n",
       "    <tr>\n",
       "      <th>...</th>\n",
       "      <td>...</td>\n",
       "      <td>...</td>\n",
       "      <td>...</td>\n",
       "    </tr>\n",
       "    <tr>\n",
       "      <th>163</th>\n",
       "      <td>2018-08-31 19:00:00</td>\n",
       "      <td>3.42</td>\n",
       "      <td>0.03</td>\n",
       "    </tr>\n",
       "    <tr>\n",
       "      <th>164</th>\n",
       "      <td>2018-08-31 20:00:00</td>\n",
       "      <td>3.55</td>\n",
       "      <td>0.00</td>\n",
       "    </tr>\n",
       "    <tr>\n",
       "      <th>165</th>\n",
       "      <td>2018-08-31 21:00:00</td>\n",
       "      <td>3.07</td>\n",
       "      <td>0.00</td>\n",
       "    </tr>\n",
       "    <tr>\n",
       "      <th>166</th>\n",
       "      <td>2018-08-31 22:00:00</td>\n",
       "      <td>2.34</td>\n",
       "      <td>0.00</td>\n",
       "    </tr>\n",
       "    <tr>\n",
       "      <th>167</th>\n",
       "      <td>2018-08-31 23:00:00</td>\n",
       "      <td>2.04</td>\n",
       "      <td>0.00</td>\n",
       "    </tr>\n",
       "  </tbody>\n",
       "</table>\n",
       "<p>168 rows × 3 columns</p>\n",
       "</div>"
      ],
      "text/plain": [
       "                    time  consumption  generation\n",
       "0    2018-08-25 00:00:00         2.63        0.00\n",
       "1    2018-08-25 01:00:00         4.15        0.00\n",
       "2    2018-08-25 02:00:00         4.91        0.01\n",
       "3    2018-08-25 03:00:00         5.15        0.01\n",
       "4    2018-08-25 04:00:00         4.87        0.01\n",
       "..                   ...          ...         ...\n",
       "163  2018-08-31 19:00:00         3.42        0.03\n",
       "164  2018-08-31 20:00:00         3.55        0.00\n",
       "165  2018-08-31 21:00:00         3.07        0.00\n",
       "166  2018-08-31 22:00:00         2.34        0.00\n",
       "167  2018-08-31 23:00:00         2.04        0.00\n",
       "\n",
       "[168 rows x 3 columns]"
      ]
     },
     "execution_count": 52,
     "metadata": {},
     "output_type": "execute_result"
    }
   ],
   "source": [
    "dd1"
   ]
  },
  {
   "cell_type": "code",
   "execution_count": 53,
   "metadata": {},
   "outputs": [],
   "source": [
    "dd1['time'] = pd.to_datetime(dd1['time'])\n",
    "dd1.set_index('time', inplace=True)\n",
    "\n",
    "dd4 = dd1.resample('1440T').agg({'min', 'max', 'sum', skew, kurtosis})"
   ]
  },
  {
   "cell_type": "code",
   "execution_count": 54,
   "metadata": {},
   "outputs": [
    {
     "data": {
      "text/html": [
       "<div>\n",
       "<style scoped>\n",
       "    .dataframe tbody tr th:only-of-type {\n",
       "        vertical-align: middle;\n",
       "    }\n",
       "\n",
       "    .dataframe tbody tr th {\n",
       "        vertical-align: top;\n",
       "    }\n",
       "\n",
       "    .dataframe thead tr th {\n",
       "        text-align: left;\n",
       "    }\n",
       "\n",
       "    .dataframe thead tr:last-of-type th {\n",
       "        text-align: right;\n",
       "    }\n",
       "</style>\n",
       "<table border=\"1\" class=\"dataframe\">\n",
       "  <thead>\n",
       "    <tr>\n",
       "      <th></th>\n",
       "      <th colspan=\"5\" halign=\"left\">consumption</th>\n",
       "      <th colspan=\"5\" halign=\"left\">generation</th>\n",
       "    </tr>\n",
       "    <tr>\n",
       "      <th></th>\n",
       "      <th>sum</th>\n",
       "      <th>skew</th>\n",
       "      <th>max</th>\n",
       "      <th>min</th>\n",
       "      <th>kurtosis</th>\n",
       "      <th>sum</th>\n",
       "      <th>skew</th>\n",
       "      <th>max</th>\n",
       "      <th>min</th>\n",
       "      <th>kurtosis</th>\n",
       "    </tr>\n",
       "    <tr>\n",
       "      <th>time</th>\n",
       "      <th></th>\n",
       "      <th></th>\n",
       "      <th></th>\n",
       "      <th></th>\n",
       "      <th></th>\n",
       "      <th></th>\n",
       "      <th></th>\n",
       "      <th></th>\n",
       "      <th></th>\n",
       "      <th></th>\n",
       "    </tr>\n",
       "  </thead>\n",
       "  <tbody>\n",
       "    <tr>\n",
       "      <th>2018-08-25</th>\n",
       "      <td>84.04</td>\n",
       "      <td>0.337800</td>\n",
       "      <td>6.56</td>\n",
       "      <td>0.84</td>\n",
       "      <td>-0.528447</td>\n",
       "      <td>27.59</td>\n",
       "      <td>0.886552</td>\n",
       "      <td>3.97</td>\n",
       "      <td>0.0</td>\n",
       "      <td>-0.934342</td>\n",
       "    </tr>\n",
       "    <tr>\n",
       "      <th>2018-08-26</th>\n",
       "      <td>58.89</td>\n",
       "      <td>-0.233628</td>\n",
       "      <td>3.52</td>\n",
       "      <td>1.07</td>\n",
       "      <td>-1.098884</td>\n",
       "      <td>26.04</td>\n",
       "      <td>0.834698</td>\n",
       "      <td>3.78</td>\n",
       "      <td>0.0</td>\n",
       "      <td>-1.030858</td>\n",
       "    </tr>\n",
       "    <tr>\n",
       "      <th>2018-08-27</th>\n",
       "      <td>68.70</td>\n",
       "      <td>-0.523317</td>\n",
       "      <td>4.43</td>\n",
       "      <td>0.69</td>\n",
       "      <td>-0.297759</td>\n",
       "      <td>27.53</td>\n",
       "      <td>0.837447</td>\n",
       "      <td>4.14</td>\n",
       "      <td>0.0</td>\n",
       "      <td>-0.915808</td>\n",
       "    </tr>\n",
       "    <tr>\n",
       "      <th>2018-08-28</th>\n",
       "      <td>60.99</td>\n",
       "      <td>-0.484678</td>\n",
       "      <td>4.60</td>\n",
       "      <td>0.34</td>\n",
       "      <td>-0.180595</td>\n",
       "      <td>28.70</td>\n",
       "      <td>0.888128</td>\n",
       "      <td>4.26</td>\n",
       "      <td>0.0</td>\n",
       "      <td>-0.846417</td>\n",
       "    </tr>\n",
       "    <tr>\n",
       "      <th>2018-08-29</th>\n",
       "      <td>59.17</td>\n",
       "      <td>0.185534</td>\n",
       "      <td>4.67</td>\n",
       "      <td>0.72</td>\n",
       "      <td>0.168778</td>\n",
       "      <td>28.34</td>\n",
       "      <td>0.764562</td>\n",
       "      <td>3.99</td>\n",
       "      <td>0.0</td>\n",
       "      <td>-1.088444</td>\n",
       "    </tr>\n",
       "    <tr>\n",
       "      <th>2018-08-30</th>\n",
       "      <td>52.94</td>\n",
       "      <td>0.301204</td>\n",
       "      <td>4.34</td>\n",
       "      <td>0.89</td>\n",
       "      <td>-0.382992</td>\n",
       "      <td>25.00</td>\n",
       "      <td>1.003562</td>\n",
       "      <td>3.89</td>\n",
       "      <td>0.0</td>\n",
       "      <td>-0.541979</td>\n",
       "    </tr>\n",
       "    <tr>\n",
       "      <th>2018-08-31</th>\n",
       "      <td>95.89</td>\n",
       "      <td>0.232930</td>\n",
       "      <td>6.87</td>\n",
       "      <td>1.26</td>\n",
       "      <td>-1.165280</td>\n",
       "      <td>28.56</td>\n",
       "      <td>0.739051</td>\n",
       "      <td>4.13</td>\n",
       "      <td>0.0</td>\n",
       "      <td>-1.147954</td>\n",
       "    </tr>\n",
       "  </tbody>\n",
       "</table>\n",
       "</div>"
      ],
      "text/plain": [
       "           consumption                                 generation            \\\n",
       "                   sum      skew   max   min  kurtosis        sum      skew   \n",
       "time                                                                          \n",
       "2018-08-25       84.04  0.337800  6.56  0.84 -0.528447      27.59  0.886552   \n",
       "2018-08-26       58.89 -0.233628  3.52  1.07 -1.098884      26.04  0.834698   \n",
       "2018-08-27       68.70 -0.523317  4.43  0.69 -0.297759      27.53  0.837447   \n",
       "2018-08-28       60.99 -0.484678  4.60  0.34 -0.180595      28.70  0.888128   \n",
       "2018-08-29       59.17  0.185534  4.67  0.72  0.168778      28.34  0.764562   \n",
       "2018-08-30       52.94  0.301204  4.34  0.89 -0.382992      25.00  1.003562   \n",
       "2018-08-31       95.89  0.232930  6.87  1.26 -1.165280      28.56  0.739051   \n",
       "\n",
       "                                 \n",
       "             max  min  kurtosis  \n",
       "time                             \n",
       "2018-08-25  3.97  0.0 -0.934342  \n",
       "2018-08-26  3.78  0.0 -1.030858  \n",
       "2018-08-27  4.14  0.0 -0.915808  \n",
       "2018-08-28  4.26  0.0 -0.846417  \n",
       "2018-08-29  3.99  0.0 -1.088444  \n",
       "2018-08-30  3.89  0.0 -0.541979  \n",
       "2018-08-31  4.13  0.0 -1.147954  "
      ]
     },
     "execution_count": 54,
     "metadata": {},
     "output_type": "execute_result"
    }
   ],
   "source": [
    "dd4"
   ]
  },
  {
   "cell_type": "code",
   "execution_count": 55,
   "metadata": {},
   "outputs": [
    {
     "name": "stderr",
     "output_type": "stream",
     "text": [
      "/Users/blueshiner/anaconda3/envs/py39/lib/python3.9/site-packages/pandas/core/generic.py:4150: PerformanceWarning: dropping on a non-lexsorted multi-index without a level parameter may impact performance.\n",
      "  obj = obj._drop_axis(labels, axis, level=level, errors=errors)\n"
     ]
    }
   ],
   "source": [
    "dd4.reset_index(inplace=True)\n",
    "\n",
    "test_X = []\n",
    "\n",
    "for i in range( len(dd4) - 4):\n",
    "  #print(df_feature.iloc[ (i) : (i+5) ].values.flatten().shape)\n",
    "  #print(df_target.iloc[ (i+5)*24 : (i+6)*24].values.shape )\n",
    "  test_X.append(dd4.drop(['time'], axis=1).iloc[ (i) : (i+5) ].values.flatten())\n",
    "\n",
    "\n",
    "test_X = np.asarray(test_X)"
   ]
  },
  {
   "cell_type": "code",
   "execution_count": 56,
   "metadata": {},
   "outputs": [
    {
     "data": {
      "text/plain": [
       "(3, 50)"
      ]
     },
     "execution_count": 56,
     "metadata": {},
     "output_type": "execute_result"
    }
   ],
   "source": [
    "test_X.shape"
   ]
  },
  {
   "cell_type": "code",
   "execution_count": 57,
   "metadata": {},
   "outputs": [
    {
     "data": {
      "text/plain": [
       "'\\n# load pretrained model\\nimport pickle\\n\\n\\nfile = open(\"pretrained.pickle\", \\'rb\\')\\nclf = pickle.load(file)\\nfile.close()\\n'"
      ]
     },
     "execution_count": 57,
     "metadata": {},
     "output_type": "execute_result"
    }
   ],
   "source": [
    "\"\"\"\n",
    "# load pretrained model\n",
    "import pickle\n",
    "\n",
    "\n",
    "file = open(\"pretrained.pickle\", 'rb')\n",
    "clf = pickle.load(file)\n",
    "file.close()\n",
    "\"\"\""
   ]
  },
  {
   "cell_type": "code",
   "execution_count": 58,
   "metadata": {},
   "outputs": [],
   "source": [
    "from sklearn import datasets\n",
    "##########################\n",
    "# SAVE-LOAD using joblib #\n",
    "##########################\n",
    "import joblib\n",
    "\n",
    "# save\n",
    "#joblib.dump(clf, \"model.pkl\") \n",
    "\n",
    "# load\n",
    "clf = joblib.load(\"model.pkl\")"
   ]
  },
  {
   "cell_type": "code",
   "execution_count": 59,
   "metadata": {},
   "outputs": [
    {
     "data": {
      "text/plain": [
       "array([[ 0.85836842,  0.83318038,  0.42747891,  0.58353758,  0.57798944,\n",
       "         0.51081489,  1.2340615 ,  0.73807568,  0.01159768, -0.18863018,\n",
       "        -1.14620437, -0.50509753,  0.53255878,  0.21563501, -1.31391128,\n",
       "        -1.32171875, -1.81752861, -1.10549763,  1.11818137,  1.73385674,\n",
       "         0.9724804 ,  1.58604028,  0.76770279,  1.47049848],\n",
       "       [ 0.80752915,  0.81237944,  0.42747891,  0.58353758,  0.59731443,\n",
       "         0.51081489,  1.2340615 ,  0.73807568,  0.01159768, -0.18863018,\n",
       "        -1.14620437, -0.50509753,  0.53255878,  0.21563501, -1.55325673,\n",
       "        -1.17477359, -1.81752861, -1.10549763,  1.11818137,  1.95618683,\n",
       "         1.05782233,  1.92947934,  0.81082892,  1.53702562],\n",
       "       [ 0.8371774 ,  0.66106096,  0.30134017,  0.56385408,  0.50146489,\n",
       "         0.51081489,  1.2340615 ,  0.76679731,  0.01159768, -0.18863018,\n",
       "        -1.14620437, -0.50509753,  0.77516644,  0.29261529, -1.22213508,\n",
       "        -1.32171875, -1.81752861, -1.10549763,  1.11818137,  1.95618683,\n",
       "         1.05782233,  1.96134735,  0.76770279,  1.53702562]])"
      ]
     },
     "execution_count": 59,
     "metadata": {},
     "output_type": "execute_result"
    }
   ],
   "source": [
    "clf.predict(test_X)"
   ]
  },
  {
   "cell_type": "code",
   "execution_count": 100,
   "metadata": {},
   "outputs": [
    {
     "data": {
      "text/plain": [
       "<AxesSubplot:>"
      ]
     },
     "execution_count": 100,
     "metadata": {},
     "output_type": "execute_result"
    },
    {
     "data": {
      "image/png": "[encoded data removed]",
      "text/plain": [
       "<Figure size 432x288 with 1 Axes>"
      ]
     },
     "metadata": {},
     "output_type": "display_data"
    }
   ],
   "source": [
    "#dataset_x.append(df_feature.reset_index().drop('time', axis=1).iloc[ (i) : (i+5) ].values.flatten())\n",
    "#dataset_y.append(df_target.iloc[ (i+5)*24 : (i+6)*24].values)\n",
    "\n",
    "x = np.arange(24)\n",
    "\n",
    "sns.lineplot(x=x, y=df_target.iloc[ (i+5)*24 : (i+6)*24].values)"
   ]
  },
  {
   "cell_type": "code",
   "execution_count": 81,
   "metadata": {},
   "outputs": [
    {
     "data": {
      "text/plain": [
       "120"
      ]
     },
     "execution_count": 81,
     "metadata": {},
     "output_type": "execute_result"
    }
   ],
   "source": [
    "24*5"
   ]
  },
  {
   "cell_type": "code",
   "execution_count": 101,
   "metadata": {},
   "outputs": [
    {
     "data": {
      "text/plain": [
       "<AxesSubplot:>"
      ]
     },
     "execution_count": 101,
     "metadata": {},
     "output_type": "execute_result"
    },
    {
     "data": {
      "image/png": "[encoded data removed]",
      "text/plain": [
       "<Figure size 432x288 with 1 Axes>"
      ]
     },
     "metadata": {},
     "output_type": "display_data"
    }
   ],
   "source": [
    "x = np.arange(24)\n",
    "\n",
    "sns.lineplot(x=x, y=[ 0.74710235,  0.42524022,  0.29206014,  0.29796285,  0.38627681,\n",
    "         0.411137  ,  1.21334931,  0.69952509, -0.2644397 , -0.36159396,\n",
    "        -1.46870153, -0.89175595, -0.02616756,  0.22151989, -1.36111229,\n",
    "        -1.3907772 , -1.72103448, -1.10110683,  0.37235747,  0.77212653,\n",
    "         0.5987624 ,  1.15271513,  0.71965247,  1.11757733])"
   ]
  },
  {
   "cell_type": "code",
   "execution_count": 72,
   "metadata": {},
   "outputs": [
    {
     "name": "stdout",
     "output_type": "stream",
     "text": [
      "0.007119509484200731\n"
     ]
    }
   ],
   "source": [
    "pred = clf.predict(train_x)\n",
    "\n",
    "train_acc = mean_squared_error(pred, train_y) / len(train_y)\n",
    "\n",
    "print(train_acc)"
   ]
  },
  {
   "cell_type": "code",
   "execution_count": 67,
   "metadata": {},
   "outputs": [
    {
     "name": "stdout",
     "output_type": "stream",
     "text": [
      "0.10503294568177272\n"
     ]
    }
   ],
   "source": [
    "from sklearn.model_selection import KFold             # 匯入 K 次交叉驗證工具\n",
    "from sklearn.tree import DecisionTreeClassifier       # 匯入決策樹模型\n",
    "from sklearn.metrics import accuracy_score            # 匯入準確度計算工具\n",
    "from sklearn.metrics import mean_squared_error\n",
    "from sklearn.multioutput import MultiOutputRegressor\n",
    "\n",
    "\n",
    "pred = clf.predict([[ 1.34900062e+00,  2.11000000e+00,  7.49392168e-01,  0.00000000e+00,\n",
    "        4.44820000e+02,  2.70590355e+00,  6.73000000e+00,  1.02598193e+01,\n",
    "       -1.00000000e-02,  1.51470000e+03,  1.60182655e+00,  1.01000000e+00,\n",
    "        1.19849582e+00,  0.00000000e+00,  1.97540000e+02,  2.64531793e+00,\n",
    "        8.13000000e+00,  9.73335693e+00,  2.80000000e-01,  1.54228000e+03,\n",
    "        1.31166957e+00,  4.68000000e+00,  2.23972507e-01,  0.00000000e+00,\n",
    "        1.00797000e+03,  1.95947252e+00,  4.57000000e+00,  3.86017702e+00,\n",
    "        2.00000000e-01,  1.32864000e+03,  1.56362467e+00,  4.62000000e+00,\n",
    "        1.10141232e+00,  0.00000000e+00,  7.60870000e+02,  3.19708056e+00,\n",
    "        4.79000000e+00,  1.48100302e+01,  1.80000000e-01,  1.01279000e+03,\n",
    "        1.52714022e+00,  4.81000000e+00,  8.53974530e-01,  0.00000000e+00,\n",
    "        9.26790000e+02,  3.08480231e+00,  4.49000000e+00,  1.17420873e+01,\n",
    "        1.70000000e-01,  9.61320000e+02]])\n",
    "\n",
    "train_acc = mean_squared_error(pred, [[ 0.38,  0.37,  0.34,  0.29,  0.67,  0.61,  0.53,  0.49,  0.41,\n",
    "        0.32, -1.05, -1.91, -2.79, -1.35,  0.12,  0.08,  0.01,  0.5 ,\n",
    "        0.42,  0.7 ,  0.55,  0.59,  0.34,  0.26]]) / 1\n",
    "\n",
    "print(train_acc)"
   ]
  },
  {
   "cell_type": "code",
   "execution_count": 38,
   "metadata": {},
   "outputs": [
    {
     "data": {
      "text/plain": [
       "array([[ 0.42161575,  0.42563028,  0.32949463,  0.3527674 ,  0.47322244,\n",
       "         0.44033614,  0.74611351,  0.58208279,  0.28471242, -0.13235256,\n",
       "        -0.69077341, -1.18017859, -1.87474884, -0.9281369 , -0.24508193,\n",
       "        -0.36480193, -0.05407548,  0.36082263,  0.63056591,  0.81500349,\n",
       "         0.78239259,  0.72862136,  0.37789608,  0.32880961]])"
      ]
     },
     "execution_count": 38,
     "metadata": {},
     "output_type": "execute_result"
    }
   ],
   "source": [
    "pred"
   ]
  },
  {
   "cell_type": "code",
   "execution_count": 31,
   "metadata": {},
   "outputs": [
    {
     "data": {
      "text/plain": [
       "array([[0.57, 0.44, 0.56, ..., 1.28, 0.89, 0.68],\n",
       "       [0.41, 0.51, 0.41, ..., 0.7 , 0.6 , 0.51],\n",
       "       [0.46, 0.54, 0.44, ..., 0.67, 0.53, 0.9 ],\n",
       "       ...,\n",
       "       [1.27, 0.31, 1.62, ..., 2.13, 2.44, 1.72],\n",
       "       [1.28, 1.16, 0.5 , ..., 2.21, 1.71, 1.16],\n",
       "       [1.85, 1.5 , 1.22, ..., 1.63, 1.71, 0.46]])"
      ]
     },
     "execution_count": 31,
     "metadata": {},
     "output_type": "execute_result"
    }
   ],
   "source": [
    "train_y"
   ]
  },
  {
   "cell_type": "code",
   "execution_count": null,
   "metadata": {},
   "outputs": [],
   "source": []
  },
  {
   "cell_type": "markdown",
   "metadata": {},
   "source": [
    "## Final Version"
   ]
  },
  {
   "cell_type": "code",
   "execution_count": 1,
   "metadata": {},
   "outputs": [],
   "source": [
    "import matplotlib\n",
    "import numpy as np\n",
    "import pandas as pd\n",
    "import sklearn\n",
    "import scipy\n",
    "import seaborn as sns\n",
    "from scipy.stats import skew\n",
    "from scipy.stats import kurtosis"
   ]
  },
  {
   "cell_type": "code",
   "execution_count": 2,
   "metadata": {},
   "outputs": [],
   "source": [
    "dd1 = pd.read_csv(\"sample_data/consumption.csv\", index_col=None)\n",
    "dd2 = pd.read_csv(\"sample_data/generation.csv\", index_col=None)\n",
    "\n",
    "dd1['generation'] = dd2['generation'].copy()"
   ]
  },
  {
   "cell_type": "code",
   "execution_count": 3,
   "metadata": {},
   "outputs": [],
   "source": [
    "dd1['time'] = pd.to_datetime(dd1['time'])\n",
    "dd1.set_index('time', inplace=True)"
   ]
  },
  {
   "cell_type": "code",
   "execution_count": 5,
   "metadata": {},
   "outputs": [],
   "source": [
    "df_all = []\n",
    "\n",
    "for i in range( 24 ):\n",
    "    df_all.append( dd1.loc[dd1.index.to_series().dt.hour == i] )"
   ]
  },
  {
   "cell_type": "code",
   "execution_count": null,
   "metadata": {},
   "outputs": [],
   "source": [
    "from scipy.stats import skew\n",
    "from scipy.stats import kurtosis\n",
    "from tqdm import tqdm\n",
    "\n",
    "dataset_x = []\n",
    "\n",
    "for t in range( 24 ):\n",
    "    tmp_x = []\n",
    "    tmp_y = []\n",
    "    for i in tqdm( range(len(df_all[t]) - 6) ):\n",
    "      \n",
    "      atmp = df_all[t].reset_index().drop('time', axis=1).iloc[ (i) : (i+7) ]\n",
    "      aatmp = atmp.groupby(atmp.index // 7 ).agg({'min', 'max', 'sum', skew, kurtosis}).values[0]\n",
    "      tmp_x.append(aatmp)\n",
    "\n",
    "    dataset_x.append(tmp_x)\n",
    "    \n",
    "for i in range( 24 ):\n",
    "    dataset_x[i] = np.asarray(dataset_x[i])"
   ]
  },
  {
   "cell_type": "code",
   "execution_count": null,
   "metadata": {},
   "outputs": [],
   "source": [
    "dd4.reset_index(inplace=True)\n",
    "\n",
    "test_X = []\n",
    "\n",
    "for i in range( len(dd4) - 4):\n",
    "  #print(df_feature.iloc[ (i) : (i+5) ].values.flatten().shape)\n",
    "  #print(df_target.iloc[ (i+5)*24 : (i+6)*24].values.shape )\n",
    "  test_X.append(dd4.drop(['time'], axis=1).iloc[ (i) : (i+5) ].values.flatten())\n",
    "\n",
    "\n",
    "test_X = np.asarray(test_X)"
   ]
  },
  {
   "cell_type": "code",
   "execution_count": null,
   "metadata": {},
   "outputs": [],
   "source": [
    "clf = joblib.load(\"model.pkl\")"
   ]
  }
 ],
 "metadata": {
  "interpreter": {
   "hash": "8a321bb0fc4d66f9af6532794760ab083afb692787107ffc87e331bdf958f3c9"
  },
  "kernelspec": {
   "display_name": "Python 3.9.5 ('py39')",
   "language": "python",
   "name": "python3"
  },
  "language_info": {
   "codemirror_mode": {
    "name": "ipython",
    "version": 3
   },
   "file_extension": ".py",
   "mimetype": "text/x-python",
   "name": "python",
   "nbconvert_exporter": "python",
   "pygments_lexer": "ipython3",
   "version": "3.9.5"
  },
  "orig_nbformat": 4
 },
 "nbformat": 4,
 "nbformat_minor": 2
}
